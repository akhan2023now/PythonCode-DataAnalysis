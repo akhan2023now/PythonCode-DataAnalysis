{
 "cells": [
  {
   "cell_type": "code",
   "execution_count": 1,
   "id": "6e86d063",
   "metadata": {},
   "outputs": [],
   "source": [
    "# Python Project"
   ]
  },
  {
   "cell_type": "markdown",
   "id": "9862ae98",
   "metadata": {},
   "source": [
    "### Conditional statements and loops"
   ]
  },
  {
   "cell_type": "code",
   "execution_count": 2,
   "id": "5e1ddc7d",
   "metadata": {},
   "outputs": [],
   "source": [
    "# if, elif, else"
   ]
  },
  {
   "cell_type": "code",
   "execution_count": 3,
   "id": "3d822e0d",
   "metadata": {},
   "outputs": [],
   "source": [
    "a_number = 50"
   ]
  },
  {
   "cell_type": "code",
   "execution_count": 4,
   "id": "0be312b2",
   "metadata": {},
   "outputs": [
    {
     "name": "stdout",
     "output_type": "stream",
     "text": [
      "We are inside an if block\n",
      "The given number 50 is even.\n"
     ]
    }
   ],
   "source": [
    "if a_number % 2 == 0:\n",
    "        print(\"We are inside an if block\")\n",
    "        print('The given number {} is even.'.format(a_number))"
   ]
  },
  {
   "cell_type": "code",
   "execution_count": 5,
   "id": "78f17168",
   "metadata": {},
   "outputs": [],
   "source": [
    "a_number = 57"
   ]
  },
  {
   "cell_type": "code",
   "execution_count": 6,
   "id": "9bdd050d",
   "metadata": {},
   "outputs": [
    {
     "name": "stdout",
     "output_type": "stream",
     "text": [
      "The given number 57 is odd.\n"
     ]
    }
   ],
   "source": [
    "if a_number % 2 == 0:\n",
    "        print('The given number {} is even.'.format(a_number))\n",
    "else:\n",
    "        print('The given number {} is odd.'.format(a_number))"
   ]
  },
  {
   "cell_type": "code",
   "execution_count": 7,
   "id": "e121f0e0",
   "metadata": {},
   "outputs": [],
   "source": [
    "a_number = 57"
   ]
  },
  {
   "cell_type": "code",
   "execution_count": 8,
   "id": "62ffb3c4",
   "metadata": {},
   "outputs": [
    {
     "name": "stdout",
     "output_type": "stream",
     "text": [
      "57 is divisible by 3\n"
     ]
    }
   ],
   "source": [
    "if a_number % 2 == 0:\n",
    "    print('{} is divisible by 2'.format(a_number))\n",
    "elif a_number % 3 == 0:\n",
    "    print('{} is divisible by 3'.format(a_number))\n",
    "elif a_number % 5 == 0:\n",
    "    print('{} is divisible by 5'.format(a_number))\n",
    "elif a_number % 7 == 0:\n",
    "    print('{} is divisible by 7'.format(a_number))\n",
    "else:\n",
    "    print('{} is NOT divisible by any of that!!'.format(a_number))"
   ]
  },
  {
   "cell_type": "code",
   "execution_count": 9,
   "id": "fa960822",
   "metadata": {},
   "outputs": [],
   "source": [
    "# while loop"
   ]
  },
  {
   "cell_type": "code",
   "execution_count": 13,
   "id": "a0960f78",
   "metadata": {},
   "outputs": [
    {
     "name": "stdout",
     "output_type": "stream",
     "text": [
      "The factorial of 10 is: 3628800\n"
     ]
    }
   ],
   "source": [
    "# factorial of 10\n",
    "result = 1\n",
    "i = 1\n",
    "while i <=10:\n",
    "    result = result * i\n",
    "    i =i + 1\n",
    "print('The factorial of 10 is: {}'.format(result))\n"
   ]
  },
  {
   "cell_type": "code",
   "execution_count": 16,
   "id": "afdae92b",
   "metadata": {},
   "outputs": [
    {
     "name": "stdout",
     "output_type": "stream",
     "text": [
      "*\n",
      "**\n",
      "***\n",
      "****\n",
      "*****\n",
      "******\n",
      "*******\n",
      "********\n",
      "*********\n",
      "**********\n",
      "***********\n",
      "**********\n",
      "*********\n",
      "********\n",
      "*******\n",
      "******\n",
      "*****\n",
      "****\n",
      "***\n",
      "**\n",
      "*\n"
     ]
    }
   ],
   "source": [
    "# print a patterns\n",
    "line = '*'\n",
    "max_length = 10\n",
    "\n",
    "while len(line) <= max_length:\n",
    "    print(line)\n",
    "    line += '*'\n",
    "    \n",
    "while len(line) > 0:\n",
    "    print(line)\n",
    "    line = line[:-1]"
   ]
  },
  {
   "cell_type": "code",
   "execution_count": 19,
   "id": "581f41f5",
   "metadata": {},
   "outputs": [
    {
     "name": "stdout",
     "output_type": "stream",
     "text": [
      "The number 55 reached. Stopping execution....\n",
      "i: 55\n",
      "result: 12696403353658275925965100847566516959580321051449436762275840000000000000\n"
     ]
    }
   ],
   "source": [
    "# break and continue statements\n",
    "result = 1\n",
    "i = 1\n",
    "\n",
    "while i <= 100:\n",
    "    result = result * i\n",
    "    if i == 55:\n",
    "        print('The number 55 reached. Stopping execution....')\n",
    "        break\n",
    "    i += 1\n",
    "    \n",
    "print('i:' , i)\n",
    "print('result:', result)"
   ]
  },
  {
   "cell_type": "code",
   "execution_count": 20,
   "id": "75fbffd5",
   "metadata": {},
   "outputs": [
    {
     "name": "stdout",
     "output_type": "stream",
     "text": [
      "Skipping 2 :\n",
      "Multiplying with 3\n",
      "Skipping 4 :\n",
      "Multiplying with 5\n",
      "Skipping 6 :\n",
      "Multiplying with 7\n",
      "Skipping 8 :\n",
      "Multiplying with 9\n",
      "Skipping 10 :\n",
      "Multiplying with 11\n",
      "Skipping 12 :\n",
      "Multiplying with 13\n",
      "Skipping 14 :\n",
      "Multiplying with 15\n",
      "Skipping 16 :\n",
      "Multiplying with 17\n",
      "Skipping 18 :\n",
      "Multiplying with 19\n",
      "Skipping 20 :\n",
      "i 20\n",
      "result 654729075\n"
     ]
    }
   ],
   "source": [
    "i = 1\n",
    "result = 1\n",
    "\n",
    "while i < 20:\n",
    "    i += 1\n",
    "    if i % 2 == 0:\n",
    "        print ('Skipping {} :'.format(i))\n",
    "        continue\n",
    "    print('Multiplying with {}'.format(i))\n",
    "    result = result * i\n",
    "\n",
    "print('i', i)\n",
    "print('result', result)"
   ]
  },
  {
   "cell_type": "code",
   "execution_count": 23,
   "id": "0809e881",
   "metadata": {},
   "outputs": [
    {
     "name": "stdout",
     "output_type": "stream",
     "text": [
      "Monday\n",
      "Tuesday\n",
      "Wednesday\n",
      "Thursday\n",
      "Friday\n",
      "Saturday\n",
      "Sunday\n"
     ]
    }
   ],
   "source": [
    "# Iteration with for loops\n",
    "days = ['Monday', 'Tuesday', 'Wednesday', 'Thursday', 'Friday', 'Saturday', 'Sunday']\n",
    "\n",
    "for day in days:\n",
    "    print(day)"
   ]
  },
  {
   "cell_type": "code",
   "execution_count": 25,
   "id": "3a50ecbe",
   "metadata": {},
   "outputs": [
    {
     "name": "stdout",
     "output_type": "stream",
     "text": [
      "1 * 1 = 1\n",
      "1 * 2 = 2\n",
      "1 * 3 = 3\n",
      "1 * 4 = 4\n",
      "1 * 5 = 5\n",
      "1 * 6 = 6\n",
      "1 * 7 = 7\n",
      "1 * 8 = 8\n",
      "1 * 9 = 9\n",
      "1 * 10 = 10\n",
      "2 * 1 = 2\n",
      "2 * 2 = 4\n",
      "2 * 3 = 6\n",
      "2 * 4 = 8\n",
      "2 * 5 = 10\n",
      "2 * 6 = 12\n",
      "2 * 7 = 14\n",
      "2 * 8 = 16\n",
      "2 * 9 = 18\n",
      "2 * 10 = 20\n",
      "3 * 1 = 3\n",
      "3 * 2 = 6\n",
      "3 * 3 = 9\n",
      "3 * 4 = 12\n",
      "3 * 5 = 15\n",
      "3 * 6 = 18\n",
      "3 * 7 = 21\n",
      "3 * 8 = 24\n",
      "3 * 9 = 27\n",
      "3 * 10 = 30\n",
      "4 * 1 = 4\n",
      "4 * 2 = 8\n",
      "4 * 3 = 12\n",
      "4 * 4 = 16\n",
      "4 * 5 = 20\n",
      "4 * 6 = 24\n",
      "4 * 7 = 28\n",
      "4 * 8 = 32\n",
      "4 * 9 = 36\n",
      "4 * 10 = 40\n",
      "5 * 1 = 5\n",
      "5 * 2 = 10\n",
      "5 * 3 = 15\n",
      "5 * 4 = 20\n",
      "5 * 5 = 25\n",
      "5 * 6 = 30\n",
      "5 * 7 = 35\n",
      "5 * 8 = 40\n",
      "5 * 9 = 45\n",
      "5 * 10 = 50\n",
      "6 * 1 = 6\n",
      "6 * 2 = 12\n",
      "6 * 3 = 18\n",
      "6 * 4 = 24\n",
      "6 * 5 = 30\n",
      "6 * 6 = 36\n",
      "6 * 7 = 42\n",
      "6 * 8 = 48\n",
      "6 * 9 = 54\n",
      "6 * 10 = 60\n",
      "7 * 1 = 7\n",
      "7 * 2 = 14\n",
      "7 * 3 = 21\n",
      "7 * 4 = 28\n",
      "7 * 5 = 35\n",
      "7 * 6 = 42\n",
      "7 * 7 = 49\n",
      "7 * 8 = 56\n",
      "7 * 9 = 63\n",
      "7 * 10 = 70\n",
      "8 * 1 = 8\n",
      "8 * 2 = 16\n",
      "8 * 3 = 24\n",
      "8 * 4 = 32\n",
      "8 * 5 = 40\n",
      "8 * 6 = 48\n",
      "8 * 7 = 56\n",
      "8 * 8 = 64\n",
      "8 * 9 = 72\n",
      "8 * 10 = 80\n",
      "9 * 1 = 9\n",
      "9 * 2 = 18\n",
      "9 * 3 = 27\n",
      "9 * 4 = 36\n",
      "9 * 5 = 45\n",
      "9 * 6 = 54\n",
      "9 * 7 = 63\n",
      "9 * 8 = 72\n",
      "9 * 9 = 81\n",
      "9 * 10 = 90\n",
      "10 * 1 = 10\n",
      "10 * 2 = 20\n",
      "10 * 3 = 30\n",
      "10 * 4 = 40\n",
      "10 * 5 = 50\n",
      "10 * 6 = 60\n",
      "10 * 7 = 70\n",
      "10 * 8 = 80\n",
      "10 * 9 = 90\n",
      "10 * 10 = 100\n"
     ]
    }
   ],
   "source": [
    "# Nested loops\n",
    "for x in range(1, 11):\n",
    "    for y in range(1, 11):\n",
    "        print('%d * %d = %d' % (x, y, x*y))"
   ]
  },
  {
   "cell_type": "code",
   "execution_count": 27,
   "id": "f82e0565",
   "metadata": {},
   "outputs": [
    {
     "name": "stdout",
     "output_type": "stream",
     "text": [
      "2  is prime\n",
      "3  is prime\n",
      "5  is prime\n",
      "7  is prime\n",
      "11  is prime\n",
      "13  is prime\n",
      "17  is prime\n",
      "19  is prime\n",
      "23  is prime\n",
      "29  is prime\n",
      "31  is prime\n",
      "37  is prime\n",
      "41  is prime\n",
      "43  is prime\n",
      "47  is prime\n",
      "53  is prime\n",
      "59  is prime\n",
      "61  is prime\n",
      "67  is prime\n",
      "71  is prime\n",
      "73  is prime\n",
      "79  is prime\n",
      "83  is prime\n",
      "89  is prime\n",
      "97  is prime\n",
      "We are done\n"
     ]
    }
   ],
   "source": [
    "# Find the prime numbers\n",
    "i = 2\n",
    "while(i < 100):\n",
    "   j = 2\n",
    "   while(j <= (i/j)):\n",
    "      if not(i%j): break\n",
    "      j = j + 1\n",
    "   if (j > i/j) : print(i, \" is prime\")\n",
    "   i = i + 1\n",
    "\n",
    "print('We are done')\n"
   ]
  },
  {
   "cell_type": "code",
   "execution_count": null,
   "id": "5dc2f9da",
   "metadata": {},
   "outputs": [],
   "source": []
  }
 ],
 "metadata": {
  "kernelspec": {
   "display_name": "Python 3 (ipykernel)",
   "language": "python",
   "name": "python3"
  },
  "language_info": {
   "codemirror_mode": {
    "name": "ipython",
    "version": 3
   },
   "file_extension": ".py",
   "mimetype": "text/x-python",
   "name": "python",
   "nbconvert_exporter": "python",
   "pygments_lexer": "ipython3",
   "version": "3.11.5"
  }
 },
 "nbformat": 4,
 "nbformat_minor": 5
}
