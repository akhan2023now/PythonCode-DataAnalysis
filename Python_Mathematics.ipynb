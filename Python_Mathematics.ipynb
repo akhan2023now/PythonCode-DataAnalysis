{
 "cells": [
  {
   "cell_type": "code",
   "execution_count": 1,
   "id": "66524b64",
   "metadata": {},
   "outputs": [],
   "source": [
    "# Python - Mathametics"
   ]
  },
  {
   "cell_type": "code",
   "execution_count": 2,
   "id": "550e69ce",
   "metadata": {},
   "outputs": [],
   "source": [
    "# Importing libraries\n",
    "import numpy as np"
   ]
  },
  {
   "cell_type": "code",
   "execution_count": 3,
   "id": "4ebac32c",
   "metadata": {},
   "outputs": [],
   "source": [
    "# Declaring scalers\n",
    "s = 7"
   ]
  },
  {
   "cell_type": "code",
   "execution_count": 4,
   "id": "b3e85b6e",
   "metadata": {},
   "outputs": [
    {
     "data": {
      "text/plain": [
       "7"
      ]
     },
     "execution_count": 4,
     "metadata": {},
     "output_type": "execute_result"
    }
   ],
   "source": [
    "s"
   ]
  },
  {
   "cell_type": "code",
   "execution_count": 5,
   "id": "5dba849b",
   "metadata": {},
   "outputs": [],
   "source": [
    "# Declaring Vectors\n",
    "v = np.array([7,4,-8])"
   ]
  },
  {
   "cell_type": "code",
   "execution_count": 6,
   "id": "3251f2e0",
   "metadata": {},
   "outputs": [
    {
     "data": {
      "text/plain": [
       "array([ 7,  4, -8])"
      ]
     },
     "execution_count": 6,
     "metadata": {},
     "output_type": "execute_result"
    }
   ],
   "source": [
    "v"
   ]
  },
  {
   "cell_type": "code",
   "execution_count": 7,
   "id": "0b8a76d1",
   "metadata": {},
   "outputs": [],
   "source": [
    "# Declaring Matrices"
   ]
  },
  {
   "cell_type": "code",
   "execution_count": 8,
   "id": "c54c4efc",
   "metadata": {},
   "outputs": [],
   "source": [
    "m = np.array([[3,17,2],[0,-5,13]])"
   ]
  },
  {
   "cell_type": "code",
   "execution_count": 9,
   "id": "ea9970bf",
   "metadata": {},
   "outputs": [
    {
     "data": {
      "text/plain": [
       "array([[ 3, 17,  2],\n",
       "       [ 0, -5, 13]])"
      ]
     },
     "execution_count": 9,
     "metadata": {},
     "output_type": "execute_result"
    }
   ],
   "source": [
    "m"
   ]
  },
  {
   "cell_type": "code",
   "execution_count": 10,
   "id": "6ba7b734",
   "metadata": {},
   "outputs": [
    {
     "data": {
      "text/plain": [
       "int"
      ]
     },
     "execution_count": 10,
     "metadata": {},
     "output_type": "execute_result"
    }
   ],
   "source": [
    "# Data types and data shapes\n",
    "type(s)"
   ]
  },
  {
   "cell_type": "code",
   "execution_count": 11,
   "id": "9f847f3a",
   "metadata": {},
   "outputs": [
    {
     "data": {
      "text/plain": [
       "numpy.ndarray"
      ]
     },
     "execution_count": 11,
     "metadata": {},
     "output_type": "execute_result"
    }
   ],
   "source": [
    "type(v)"
   ]
  },
  {
   "cell_type": "code",
   "execution_count": 12,
   "id": "564d6533",
   "metadata": {},
   "outputs": [
    {
     "data": {
      "text/plain": [
       "numpy.ndarray"
      ]
     },
     "execution_count": 12,
     "metadata": {},
     "output_type": "execute_result"
    }
   ],
   "source": [
    "type(m)"
   ]
  },
  {
   "cell_type": "code",
   "execution_count": 13,
   "id": "3b450b03",
   "metadata": {},
   "outputs": [],
   "source": [
    "x_array = np.array([10])"
   ]
  },
  {
   "cell_type": "code",
   "execution_count": 14,
   "id": "b430302b",
   "metadata": {},
   "outputs": [
    {
     "data": {
      "text/plain": [
       "numpy.ndarray"
      ]
     },
     "execution_count": 14,
     "metadata": {},
     "output_type": "execute_result"
    }
   ],
   "source": [
    "type(x_array)"
   ]
  },
  {
   "cell_type": "code",
   "execution_count": 15,
   "id": "ddd6d730",
   "metadata": {},
   "outputs": [
    {
     "data": {
      "text/plain": [
       "(2, 3)"
      ]
     },
     "execution_count": 15,
     "metadata": {},
     "output_type": "execute_result"
    }
   ],
   "source": [
    "m.shape"
   ]
  },
  {
   "cell_type": "code",
   "execution_count": 16,
   "id": "31bf63a3",
   "metadata": {},
   "outputs": [
    {
     "data": {
      "text/plain": [
       "(3,)"
      ]
     },
     "execution_count": 16,
     "metadata": {},
     "output_type": "execute_result"
    }
   ],
   "source": [
    "v.shape"
   ]
  },
  {
   "cell_type": "code",
   "execution_count": 17,
   "id": "597ad025",
   "metadata": {},
   "outputs": [
    {
     "data": {
      "text/plain": [
       "(1,)"
      ]
     },
     "execution_count": 17,
     "metadata": {},
     "output_type": "execute_result"
    }
   ],
   "source": [
    "x_array.shape"
   ]
  },
  {
   "cell_type": "code",
   "execution_count": 18,
   "id": "4e68114c",
   "metadata": {},
   "outputs": [
    {
     "ename": "AttributeError",
     "evalue": "'int' object has no attribute 'shape'",
     "output_type": "error",
     "traceback": [
      "\u001b[1;31m---------------------------------------------------------------------------\u001b[0m",
      "\u001b[1;31mAttributeError\u001b[0m                            Traceback (most recent call last)",
      "Cell \u001b[1;32mIn[18], line 1\u001b[0m\n\u001b[1;32m----> 1\u001b[0m s\u001b[38;5;241m.\u001b[39mshape\n",
      "\u001b[1;31mAttributeError\u001b[0m: 'int' object has no attribute 'shape'"
     ]
    }
   ],
   "source": [
    "s.shape"
   ]
  },
  {
   "cell_type": "code",
   "execution_count": 19,
   "id": "77a0f82c",
   "metadata": {},
   "outputs": [
    {
     "data": {
      "text/plain": [
       "array([[ 7,  4, -8]])"
      ]
     },
     "execution_count": 19,
     "metadata": {},
     "output_type": "execute_result"
    }
   ],
   "source": [
    "# Creating a column vector\n",
    "v.reshape(1,3)"
   ]
  },
  {
   "cell_type": "code",
   "execution_count": 20,
   "id": "fa05a0a2",
   "metadata": {},
   "outputs": [
    {
     "data": {
      "text/plain": [
       "array([[ 7],\n",
       "       [ 4],\n",
       "       [-8]])"
      ]
     },
     "execution_count": 20,
     "metadata": {},
     "output_type": "execute_result"
    }
   ],
   "source": [
    "v.reshape(3,1)"
   ]
  },
  {
   "cell_type": "code",
   "execution_count": 21,
   "id": "34b019e3",
   "metadata": {},
   "outputs": [
    {
     "data": {
      "text/plain": [
       "array([[10, 24,  9],\n",
       "       [ 7,  2, 20]])"
      ]
     },
     "execution_count": 21,
     "metadata": {},
     "output_type": "execute_result"
    }
   ],
   "source": [
    "m+s"
   ]
  },
  {
   "cell_type": "code",
   "execution_count": null,
   "id": "1333f5b8",
   "metadata": {},
   "outputs": [],
   "source": [
    "m+x_array"
   ]
  },
  {
   "cell_type": "code",
   "execution_count": null,
   "id": "c4475169",
   "metadata": {},
   "outputs": [],
   "source": [
    "v+s"
   ]
  },
  {
   "cell_type": "code",
   "execution_count": null,
   "id": "47e6edcf",
   "metadata": {},
   "outputs": [],
   "source": [
    "v"
   ]
  },
  {
   "cell_type": "code",
   "execution_count": null,
   "id": "135b5497",
   "metadata": {},
   "outputs": [],
   "source": [
    "v+x_array"
   ]
  },
  {
   "cell_type": "code",
   "execution_count": null,
   "id": "695cc126",
   "metadata": {},
   "outputs": [],
   "source": [
    "m+v"
   ]
  },
  {
   "cell_type": "code",
   "execution_count": null,
   "id": "3f81adac",
   "metadata": {},
   "outputs": [],
   "source": [
    "# Creating Tensor\n",
    "m1 = np.array([[3,17,-2],[-5,6,11]])\n",
    "m1"
   ]
  },
  {
   "cell_type": "code",
   "execution_count": null,
   "id": "308f39d2",
   "metadata": {},
   "outputs": [],
   "source": [
    "m2 = np.array([[3,8,1],[2,7,-5]])\n",
    "m2"
   ]
  },
  {
   "cell_type": "code",
   "execution_count": null,
   "id": "444b3994",
   "metadata": {},
   "outputs": [],
   "source": [
    "t = np.array([m1,m2])"
   ]
  },
  {
   "cell_type": "code",
   "execution_count": null,
   "id": "f42112b0",
   "metadata": {},
   "outputs": [],
   "source": [
    "t"
   ]
  },
  {
   "cell_type": "code",
   "execution_count": null,
   "id": "c7a12715",
   "metadata": {},
   "outputs": [],
   "source": [
    "# Checking shape\n",
    "t.shape"
   ]
  },
  {
   "cell_type": "code",
   "execution_count": null,
   "id": "3b796f15",
   "metadata": {},
   "outputs": [],
   "source": [
    "# Adding and Subtracting matrices (matrices should be matchable)\n",
    "m1 = np.array([[5,12,6],[-3,0,14]])\n",
    "m1"
   ]
  },
  {
   "cell_type": "code",
   "execution_count": null,
   "id": "34eeeae0",
   "metadata": {},
   "outputs": [],
   "source": [
    "m2 = np.array([[9,8,7],[1,3,-5]])\n",
    "m2"
   ]
  },
  {
   "cell_type": "code",
   "execution_count": null,
   "id": "6c9cf618",
   "metadata": {},
   "outputs": [],
   "source": [
    "m1 + m2"
   ]
  },
  {
   "cell_type": "code",
   "execution_count": null,
   "id": "a595669f",
   "metadata": {},
   "outputs": [],
   "source": [
    "m1 - m2"
   ]
  },
  {
   "cell_type": "code",
   "execution_count": null,
   "id": "24c55bb4",
   "metadata": {},
   "outputs": [],
   "source": [
    "# Adding and Subtracting vectors\n",
    "v1 = np.array([1,2,3,4,5])\n",
    "v2 = np.array([5,4,3,2,1])"
   ]
  },
  {
   "cell_type": "code",
   "execution_count": null,
   "id": "7a8129f7",
   "metadata": {},
   "outputs": [],
   "source": [
    "v1 + v2"
   ]
  },
  {
   "cell_type": "code",
   "execution_count": null,
   "id": "da2bc815",
   "metadata": {},
   "outputs": [],
   "source": [
    "v1 - v2"
   ]
  },
  {
   "cell_type": "code",
   "execution_count": null,
   "id": "ac4e2a6c",
   "metadata": {},
   "outputs": [],
   "source": [
    "# Exception (addition and subtracting with a scalar)\n",
    "m1"
   ]
  },
  {
   "cell_type": "code",
   "execution_count": null,
   "id": "f2994630",
   "metadata": {},
   "outputs": [],
   "source": [
    "m1 +1"
   ]
  },
  {
   "cell_type": "code",
   "execution_count": null,
   "id": "94bf56a6",
   "metadata": {},
   "outputs": [],
   "source": [
    "v1"
   ]
  },
  {
   "cell_type": "code",
   "execution_count": null,
   "id": "31507558",
   "metadata": {},
   "outputs": [],
   "source": [
    "v1- 1"
   ]
  },
  {
   "cell_type": "code",
   "execution_count": null,
   "id": "3dd26e02",
   "metadata": {},
   "outputs": [],
   "source": [
    "m1 + np.array([1])"
   ]
  },
  {
   "cell_type": "code",
   "execution_count": null,
   "id": "a8535ef0",
   "metadata": {},
   "outputs": [],
   "source": [
    "v1 - np.array([2])"
   ]
  },
  {
   "cell_type": "code",
   "execution_count": null,
   "id": "90be1cc6",
   "metadata": {},
   "outputs": [],
   "source": [
    "# Transposing matrices\n",
    "A = np.array([[9,17,6],[0,10,-4]])\n",
    "A"
   ]
  },
  {
   "cell_type": "code",
   "execution_count": null,
   "id": "8a1b7752",
   "metadata": {},
   "outputs": [],
   "source": [
    "A.T"
   ]
  },
  {
   "cell_type": "code",
   "execution_count": null,
   "id": "c38d84a5",
   "metadata": {},
   "outputs": [],
   "source": [
    "# Transposing scalars\n",
    "s = np.array([17])"
   ]
  },
  {
   "cell_type": "code",
   "execution_count": null,
   "id": "6ee6efcc",
   "metadata": {},
   "outputs": [],
   "source": [
    "s"
   ]
  },
  {
   "cell_type": "code",
   "execution_count": null,
   "id": "69188fd7",
   "metadata": {},
   "outputs": [],
   "source": [
    "# Transposing vectors\n",
    "a = np.array([1,2,3])\n",
    "a"
   ]
  },
  {
   "cell_type": "code",
   "execution_count": null,
   "id": "2a2689a3",
   "metadata": {},
   "outputs": [],
   "source": [
    "a.T"
   ]
  },
  {
   "cell_type": "code",
   "execution_count": null,
   "id": "ef95f6a6",
   "metadata": {},
   "outputs": [],
   "source": [
    "a.shape"
   ]
  },
  {
   "cell_type": "code",
   "execution_count": null,
   "id": "29da93f8",
   "metadata": {},
   "outputs": [],
   "source": [
    "a_reshaped = a.reshape(1,3)\n",
    "a_reshaped"
   ]
  },
  {
   "cell_type": "code",
   "execution_count": null,
   "id": "43e37b82",
   "metadata": {},
   "outputs": [],
   "source": [
    "a_reshaped.T"
   ]
  },
  {
   "cell_type": "code",
   "execution_count": null,
   "id": "7103352e",
   "metadata": {},
   "outputs": [],
   "source": [
    "# Dot product\n",
    "x = np.array([2,8,-4])\n",
    "y = np.array([1,-7,3])"
   ]
  },
  {
   "cell_type": "code",
   "execution_count": null,
   "id": "a3ed93ea",
   "metadata": {},
   "outputs": [],
   "source": [
    "np.dot(x,y)"
   ]
  },
  {
   "cell_type": "code",
   "execution_count": null,
   "id": "83be5fad",
   "metadata": {},
   "outputs": [],
   "source": [
    "# Scalar * Scalar\n",
    "np.dot(5,6)"
   ]
  },
  {
   "cell_type": "code",
   "execution_count": null,
   "id": "853f66e1",
   "metadata": {},
   "outputs": [],
   "source": [
    "# Scalar * Vector\n",
    "x"
   ]
  },
  {
   "cell_type": "code",
   "execution_count": null,
   "id": "bf9323dc",
   "metadata": {},
   "outputs": [],
   "source": [
    "7*x"
   ]
  },
  {
   "cell_type": "code",
   "execution_count": null,
   "id": "3fd65fb1",
   "metadata": {},
   "outputs": [],
   "source": [
    "# Vector * Vector\n",
    "u = np.array([0,2,5,8])\n",
    "v = np.array([20,3,4,-1])"
   ]
  },
  {
   "cell_type": "code",
   "execution_count": null,
   "id": "c10631bc",
   "metadata": {},
   "outputs": [],
   "source": [
    "np.dot(u,v)"
   ]
  },
  {
   "cell_type": "code",
   "execution_count": null,
   "id": "bd747924",
   "metadata": {},
   "outputs": [],
   "source": [
    "# Scalar * Matrix\n",
    "A = np.array([[5,12,6],[-3,0,14]])\n",
    "A"
   ]
  },
  {
   "cell_type": "code",
   "execution_count": null,
   "id": "71a7de9c",
   "metadata": {},
   "outputs": [],
   "source": [
    "4*A"
   ]
  },
  {
   "cell_type": "code",
   "execution_count": null,
   "id": "19eca932",
   "metadata": {},
   "outputs": [],
   "source": [
    "# Matrix * Matrix\n",
    "B = np.array([[2,-1],[8,0],[3,0]])\n",
    "B"
   ]
  },
  {
   "cell_type": "code",
   "execution_count": null,
   "id": "c49c9286",
   "metadata": {},
   "outputs": [],
   "source": [
    "np.dot(A,B)"
   ]
  },
  {
   "cell_type": "code",
   "execution_count": 22,
   "id": "751ef21d",
   "metadata": {},
   "outputs": [
    {
     "data": {
      "text/plain": [
       "array([[-12,   5,  -5,   1,   6],\n",
       "       [  6,  -2,   0,   0,  -3],\n",
       "       [ 10,   2,   0,   8,   0],\n",
       "       [  9,  -4,   8,   3,  -6]])"
      ]
     },
     "execution_count": 22,
     "metadata": {},
     "output_type": "execute_result"
    }
   ],
   "source": [
    "C = np.array([[-12,5,-5,1,6],[6,-2,0,0,-3],[10,2,0,8,0],[9,-4,8,3,-6]])\n",
    "C"
   ]
  },
  {
   "cell_type": "code",
   "execution_count": 26,
   "id": "545bcfa3",
   "metadata": {},
   "outputs": [
    {
     "data": {
      "text/plain": [
       "array([[ 6, -1],\n",
       "       [ 8, -4],\n",
       "       [ 2, -2],\n",
       "       [ 7,  4],\n",
       "       [-6, -9]])"
      ]
     },
     "execution_count": 26,
     "metadata": {},
     "output_type": "execute_result"
    }
   ],
   "source": [
    "D = np.array([[6,-1],[8,-4],[2,-2],[7,4],[-6,-9]])\n",
    "D"
   ]
  },
  {
   "cell_type": "code",
   "execution_count": 23,
   "id": "0cb91535",
   "metadata": {},
   "outputs": [
    {
     "ename": "NameError",
     "evalue": "name 'D' is not defined",
     "output_type": "error",
     "traceback": [
      "\u001b[1;31m---------------------------------------------------------------------------\u001b[0m",
      "\u001b[1;31mNameError\u001b[0m                                 Traceback (most recent call last)",
      "Cell \u001b[1;32mIn[23], line 1\u001b[0m\n\u001b[1;32m----> 1\u001b[0m np\u001b[38;5;241m.\u001b[39mdot(C,D)\n",
      "\u001b[1;31mNameError\u001b[0m: name 'D' is not defined"
     ]
    }
   ],
   "source": [
    "np.dot(C,D)"
   ]
  },
  {
   "cell_type": "code",
   "execution_count": 24,
   "id": "063f1bed",
   "metadata": {},
   "outputs": [
    {
     "data": {
      "text/plain": [
       "(4, 5)"
      ]
     },
     "execution_count": 24,
     "metadata": {},
     "output_type": "execute_result"
    }
   ],
   "source": [
    "C.shape"
   ]
  },
  {
   "cell_type": "code",
   "execution_count": 27,
   "id": "e3a5f15f",
   "metadata": {},
   "outputs": [
    {
     "data": {
      "text/plain": [
       "(5, 2)"
      ]
     },
     "execution_count": 27,
     "metadata": {},
     "output_type": "execute_result"
    }
   ],
   "source": [
    "D.shape"
   ]
  },
  {
   "cell_type": "code",
   "execution_count": null,
   "id": "0633dd5b",
   "metadata": {},
   "outputs": [],
   "source": []
  }
 ],
 "metadata": {
  "kernelspec": {
   "display_name": "Python 3 (ipykernel)",
   "language": "python",
   "name": "python3"
  },
  "language_info": {
   "codemirror_mode": {
    "name": "ipython",
    "version": 3
   },
   "file_extension": ".py",
   "mimetype": "text/x-python",
   "name": "python",
   "nbconvert_exporter": "python",
   "pygments_lexer": "ipython3",
   "version": "3.11.5"
  }
 },
 "nbformat": 4,
 "nbformat_minor": 5
}
