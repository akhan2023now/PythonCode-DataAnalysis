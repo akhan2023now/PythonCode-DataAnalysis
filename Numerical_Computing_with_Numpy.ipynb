{
 "cells": [
  {
   "cell_type": "code",
   "execution_count": 1,
   "id": "62d38a40",
   "metadata": {},
   "outputs": [],
   "source": [
    "# Numerical Computing with Python and Numpy"
   ]
  },
  {
   "cell_type": "code",
   "execution_count": 2,
   "id": "bd251fea",
   "metadata": {},
   "outputs": [
    {
     "name": "stdout",
     "output_type": "stream",
     "text": [
      "Requirement already satisfied: numpy in c:\\users\\akhan\\anaconda3\\lib\\site-packages (1.24.3)\n"
     ]
    }
   ],
   "source": [
    "!pip install numpy\n"
   ]
  },
  {
   "cell_type": "code",
   "execution_count": 3,
   "id": "2b0aa5a3",
   "metadata": {},
   "outputs": [],
   "source": [
    "import numpy as np"
   ]
  },
  {
   "cell_type": "code",
   "execution_count": 4,
   "id": "4a2b9e99",
   "metadata": {},
   "outputs": [],
   "source": [
    "# We are using climate data and weights here to find out the yield (tons per hactore) of apples in certain area (kanto).\n",
    "# climate data -> ave temperature (farenheit), rainfall (mm) and ave relative humidity (%).\n",
    "# weights -> w1, w2, w3.\n",
    "# yield_of_apples = w1*tempetrature + w2*rainfall + w3*humidity"
   ]
  },
  {
   "cell_type": "code",
   "execution_count": 5,
   "id": "30c93afe",
   "metadata": {},
   "outputs": [],
   "source": [
    "kanto =np.array([72, 63, 47])"
   ]
  },
  {
   "cell_type": "code",
   "execution_count": 6,
   "id": "76afc45f",
   "metadata": {},
   "outputs": [
    {
     "data": {
      "text/plain": [
       "array([72, 63, 47])"
      ]
     },
     "execution_count": 6,
     "metadata": {},
     "output_type": "execute_result"
    }
   ],
   "source": [
    "kanto"
   ]
  },
  {
   "cell_type": "code",
   "execution_count": 7,
   "id": "7098dc81",
   "metadata": {},
   "outputs": [],
   "source": [
    "weights = np.array([0.2, 0.3, 0.4])"
   ]
  },
  {
   "cell_type": "code",
   "execution_count": 8,
   "id": "125bf0af",
   "metadata": {},
   "outputs": [
    {
     "data": {
      "text/plain": [
       "array([0.2, 0.3, 0.4])"
      ]
     },
     "execution_count": 8,
     "metadata": {},
     "output_type": "execute_result"
    }
   ],
   "source": [
    "weights"
   ]
  },
  {
   "cell_type": "code",
   "execution_count": 9,
   "id": "b7eaa1a0",
   "metadata": {},
   "outputs": [
    {
     "data": {
      "text/plain": [
       "numpy.ndarray"
      ]
     },
     "execution_count": 9,
     "metadata": {},
     "output_type": "execute_result"
    }
   ],
   "source": [
    "type(kanto)"
   ]
  },
  {
   "cell_type": "code",
   "execution_count": 10,
   "id": "0c8036ba",
   "metadata": {},
   "outputs": [
    {
     "data": {
      "text/plain": [
       "0.3"
      ]
     },
     "execution_count": 10,
     "metadata": {},
     "output_type": "execute_result"
    }
   ],
   "source": [
    "weights[1]"
   ]
  },
  {
   "cell_type": "code",
   "execution_count": 11,
   "id": "02df6106",
   "metadata": {},
   "outputs": [
    {
     "data": {
      "text/plain": [
       "52.099999999999994"
      ]
     },
     "execution_count": 11,
     "metadata": {},
     "output_type": "execute_result"
    }
   ],
   "source": [
    "np.dot(kanto, weights)"
   ]
  },
  {
   "cell_type": "code",
   "execution_count": 12,
   "id": "f91659aa",
   "metadata": {},
   "outputs": [
    {
     "data": {
      "text/plain": [
       "array([14.4, 18.9, 18.8])"
      ]
     },
     "execution_count": 12,
     "metadata": {},
     "output_type": "execute_result"
    }
   ],
   "source": [
    "kanto * weights"
   ]
  },
  {
   "cell_type": "code",
   "execution_count": 13,
   "id": "5f65d142",
   "metadata": {},
   "outputs": [
    {
     "data": {
      "text/plain": [
       "52.099999999999994"
      ]
     },
     "execution_count": 13,
     "metadata": {},
     "output_type": "execute_result"
    }
   ],
   "source": [
    "(kanto * weights).sum()"
   ]
  },
  {
   "cell_type": "code",
   "execution_count": 14,
   "id": "36c773ae",
   "metadata": {},
   "outputs": [],
   "source": [
    "# Python lists\n",
    "arr1 = list(range(1000000))\n",
    "arr2 = list(range(1000000, 2000000))\n",
    "\n",
    "# Numpy arrays\n",
    "arr1_np =np.array(arr1)\n",
    "arr2_np =np.array(arr2)"
   ]
  },
  {
   "cell_type": "code",
   "execution_count": 15,
   "id": "8b935ab5",
   "metadata": {},
   "outputs": [
    {
     "name": "stdout",
     "output_type": "stream",
     "text": [
      "CPU times: total: 93.8 ms\n",
      "Wall time: 117 ms\n"
     ]
    },
    {
     "data": {
      "text/plain": [
       "833332333333500000"
      ]
     },
     "execution_count": 15,
     "metadata": {},
     "output_type": "execute_result"
    }
   ],
   "source": [
    "%%time\n",
    "result = 0\n",
    "for x1, x2 in zip(arr1, arr2):\n",
    "    result += x1*x2\n",
    "result"
   ]
  },
  {
   "cell_type": "code",
   "execution_count": 16,
   "id": "a027220f",
   "metadata": {},
   "outputs": [],
   "source": [
    "# Python lists\n",
    "arr1 = list(range(1000000))\n",
    "arr2 = list(range(1000000, 2000000))\n",
    "\n",
    "# Numpy arrays\n",
    "arr1_np =np.array(arr1)\n",
    "arr2_np =np.array(arr2)"
   ]
  },
  {
   "cell_type": "code",
   "execution_count": 17,
   "id": "77eeb830",
   "metadata": {},
   "outputs": [
    {
     "name": "stdout",
     "output_type": "stream",
     "text": [
      "CPU times: total: 0 ns\n",
      "Wall time: 433 µs\n"
     ]
    },
    {
     "data": {
      "text/plain": [
       "-1942957984"
      ]
     },
     "execution_count": 17,
     "metadata": {},
     "output_type": "execute_result"
    }
   ],
   "source": [
    "%%time\n",
    "np.dot(arr1_np, arr2_np)"
   ]
  },
  {
   "cell_type": "code",
   "execution_count": 18,
   "id": "7548bf39",
   "metadata": {},
   "outputs": [
    {
     "data": {
      "text/plain": [
       "array([0.2, 0.3, 0.4])"
      ]
     },
     "execution_count": 18,
     "metadata": {},
     "output_type": "execute_result"
    }
   ],
   "source": [
    "weights"
   ]
  },
  {
   "cell_type": "code",
   "execution_count": 19,
   "id": "9bc1a1be",
   "metadata": {},
   "outputs": [
    {
     "data": {
      "text/plain": [
       "dtype('float64')"
      ]
     },
     "execution_count": 19,
     "metadata": {},
     "output_type": "execute_result"
    }
   ],
   "source": [
    "weights.dtype"
   ]
  },
  {
   "cell_type": "code",
   "execution_count": 20,
   "id": "07bac65e",
   "metadata": {},
   "outputs": [],
   "source": [
    "# Multi-dimentional Numpy arrays\n",
    "climate_data = np.array([[73, 67, 43],\n",
    "                        [91, 88, 64],\n",
    "                        [87, 134, 58],\n",
    "                        [102, 43, 37],\n",
    "                        [69, 96, 70]])\n"
   ]
  },
  {
   "cell_type": "code",
   "execution_count": 21,
   "id": "1bfcb39d",
   "metadata": {},
   "outputs": [
    {
     "data": {
      "text/plain": [
       "array([[ 73,  67,  43],\n",
       "       [ 91,  88,  64],\n",
       "       [ 87, 134,  58],\n",
       "       [102,  43,  37],\n",
       "       [ 69,  96,  70]])"
      ]
     },
     "execution_count": 21,
     "metadata": {},
     "output_type": "execute_result"
    }
   ],
   "source": [
    "climate_data"
   ]
  },
  {
   "cell_type": "code",
   "execution_count": 22,
   "id": "eb3e8b19",
   "metadata": {},
   "outputs": [
    {
     "data": {
      "text/plain": [
       "(5, 3)"
      ]
     },
     "execution_count": 22,
     "metadata": {},
     "output_type": "execute_result"
    }
   ],
   "source": [
    "# 2D array (matrix)\n",
    "climate_data.shape"
   ]
  },
  {
   "cell_type": "code",
   "execution_count": 23,
   "id": "5f0a8136",
   "metadata": {},
   "outputs": [
    {
     "data": {
      "text/plain": [
       "(3,)"
      ]
     },
     "execution_count": 23,
     "metadata": {},
     "output_type": "execute_result"
    }
   ],
   "source": [
    "# 1D array (vector)\n",
    "weights.shape"
   ]
  },
  {
   "cell_type": "code",
   "execution_count": 24,
   "id": "5af02ecf",
   "metadata": {},
   "outputs": [],
   "source": [
    "# 3D array\n",
    "arr3 = np.array ([\n",
    "    [[11, 12, 13],\n",
    "    [13, 14, 15]],\n",
    "    [[15, 16, 17],\n",
    "    [17, 18, 19.5]]\n",
    "])"
   ]
  },
  {
   "cell_type": "code",
   "execution_count": 25,
   "id": "085d061a",
   "metadata": {},
   "outputs": [
    {
     "data": {
      "text/plain": [
       "(2, 2, 3)"
      ]
     },
     "execution_count": 25,
     "metadata": {},
     "output_type": "execute_result"
    }
   ],
   "source": [
    "arr3.shape"
   ]
  },
  {
   "cell_type": "code",
   "execution_count": 26,
   "id": "594fbdef",
   "metadata": {},
   "outputs": [
    {
     "data": {
      "text/plain": [
       "array([51.9, 70.2, 80.8, 48.1, 70.6])"
      ]
     },
     "execution_count": 26,
     "metadata": {},
     "output_type": "execute_result"
    }
   ],
   "source": [
    "# Matrix multiplication\n",
    "np.matmul(climate_data, weights)"
   ]
  },
  {
   "cell_type": "code",
   "execution_count": 27,
   "id": "b9aca06b",
   "metadata": {},
   "outputs": [
    {
     "data": {
      "text/plain": [
       "array([51.9, 70.2, 80.8, 48.1, 70.6])"
      ]
     },
     "execution_count": 27,
     "metadata": {},
     "output_type": "execute_result"
    }
   ],
   "source": [
    "climate_data @ weights"
   ]
  },
  {
   "cell_type": "code",
   "execution_count": 28,
   "id": "d86fb339",
   "metadata": {},
   "outputs": [
    {
     "data": {
      "text/plain": [
       "\"\\nurllib.request.urlretrieve(\\n    'https://hub.jovian.ml/wp-content/uploads/2020/08/climate.csv', \\n    'climate.txt')\\n\""
      ]
     },
     "execution_count": 28,
     "metadata": {},
     "output_type": "execute_result"
    }
   ],
   "source": [
    "import urllib.request\n",
    "'''\n",
    "urllib.request.urlretrieve(\n",
    "    'https://hub.jovian.ml/wp-content/uploads/2020/08/climate.csv', \n",
    "    'climate.txt')\n",
    "'''"
   ]
  },
  {
   "cell_type": "code",
   "execution_count": 29,
   "id": "86751196",
   "metadata": {},
   "outputs": [],
   "source": [
    "climate_data =np.genfromtxt('climate.txt', delimiter=',', skip_header=1)"
   ]
  },
  {
   "cell_type": "code",
   "execution_count": 30,
   "id": "3758ec98",
   "metadata": {},
   "outputs": [
    {
     "data": {
      "text/plain": [
       "array([[25., 76., 99.],\n",
       "       [39., 65., 70.],\n",
       "       [59., 45., 77.],\n",
       "       ...,\n",
       "       [99., 62., 58.],\n",
       "       [70., 71., 91.],\n",
       "       [92., 39., 76.]])"
      ]
     },
     "execution_count": 30,
     "metadata": {},
     "output_type": "execute_result"
    }
   ],
   "source": [
    "climate_data # temperature, rainfall, humidity "
   ]
  },
  {
   "cell_type": "code",
   "execution_count": 31,
   "id": "3c841db8",
   "metadata": {},
   "outputs": [
    {
     "data": {
      "text/plain": [
       "(10000, 3)"
      ]
     },
     "execution_count": 31,
     "metadata": {},
     "output_type": "execute_result"
    }
   ],
   "source": [
    "climate_data.shape"
   ]
  },
  {
   "cell_type": "code",
   "execution_count": 32,
   "id": "7738ca94",
   "metadata": {},
   "outputs": [],
   "source": [
    "weights = np.array([0.3, 0.2, 0.5])"
   ]
  },
  {
   "cell_type": "code",
   "execution_count": 33,
   "id": "bf0ee699",
   "metadata": {},
   "outputs": [],
   "source": [
    "yields = climate_data @ weights"
   ]
  },
  {
   "cell_type": "code",
   "execution_count": 34,
   "id": "d0c68b50",
   "metadata": {},
   "outputs": [
    {
     "data": {
      "text/plain": [
       "array([72.2, 59.7, 65.2, ..., 71.1, 80.7, 73.4])"
      ]
     },
     "execution_count": 34,
     "metadata": {},
     "output_type": "execute_result"
    }
   ],
   "source": [
    "yields"
   ]
  },
  {
   "cell_type": "code",
   "execution_count": 35,
   "id": "802a3560",
   "metadata": {},
   "outputs": [
    {
     "data": {
      "text/plain": [
       "(10000,)"
      ]
     },
     "execution_count": 35,
     "metadata": {},
     "output_type": "execute_result"
    }
   ],
   "source": [
    "yields.shape"
   ]
  },
  {
   "cell_type": "code",
   "execution_count": 36,
   "id": "abe0494b",
   "metadata": {},
   "outputs": [],
   "source": [
    "# Add the yields back to clomate_data as a forth column using the np.concatenate function (joining two arrays)"
   ]
  },
  {
   "cell_type": "code",
   "execution_count": 37,
   "id": "11a49e2c",
   "metadata": {},
   "outputs": [],
   "source": [
    "climate_results = np.concatenate((climate_data, yields.reshape(10000, 1)), axis=1)"
   ]
  },
  {
   "cell_type": "code",
   "execution_count": 38,
   "id": "275e184e",
   "metadata": {},
   "outputs": [
    {
     "data": {
      "text/plain": [
       "array([[25. , 76. , 99. , 72.2],\n",
       "       [39. , 65. , 70. , 59.7],\n",
       "       [59. , 45. , 77. , 65.2],\n",
       "       ...,\n",
       "       [99. , 62. , 58. , 71.1],\n",
       "       [70. , 71. , 91. , 80.7],\n",
       "       [92. , 39. , 76. , 73.4]])"
      ]
     },
     "execution_count": 38,
     "metadata": {},
     "output_type": "execute_result"
    }
   ],
   "source": [
    "climate_results"
   ]
  },
  {
   "cell_type": "code",
   "execution_count": 39,
   "id": "0de01092",
   "metadata": {},
   "outputs": [],
   "source": [
    "# save the climate_result file\n",
    "np.savetxt('climate_results.txt',\n",
    "          climate_results,\n",
    "          fmt='%.2f',\n",
    "          header='temperature,rainfall,humidity,yield_apples',\n",
    "          comments='')"
   ]
  },
  {
   "cell_type": "code",
   "execution_count": 40,
   "id": "58ee2276",
   "metadata": {},
   "outputs": [],
   "source": [
    "# Arithmetic operations and broadcasting"
   ]
  },
  {
   "cell_type": "code",
   "execution_count": 41,
   "id": "f43b2b81",
   "metadata": {},
   "outputs": [],
   "source": [
    "arr2 = np.array([[1,2,3,4],\n",
    "                [5,6,7,8],\n",
    "                [9,1,2,3]])"
   ]
  },
  {
   "cell_type": "code",
   "execution_count": 42,
   "id": "c94e6b69",
   "metadata": {},
   "outputs": [],
   "source": [
    "arr3 = np.array([[11,12,13,14],\n",
    "                [15,16,17,18],\n",
    "                [19,11,12,13]])"
   ]
  },
  {
   "cell_type": "code",
   "execution_count": 43,
   "id": "693f26f0",
   "metadata": {},
   "outputs": [
    {
     "data": {
      "text/plain": [
       "array([[ 6,  7,  8,  9],\n",
       "       [10, 11, 12, 13],\n",
       "       [14,  6,  7,  8]])"
      ]
     },
     "execution_count": 43,
     "metadata": {},
     "output_type": "execute_result"
    }
   ],
   "source": [
    "# Adding a scalar\n",
    "arr2 + 5"
   ]
  },
  {
   "cell_type": "code",
   "execution_count": 44,
   "id": "0ee69bdf",
   "metadata": {},
   "outputs": [
    {
     "data": {
      "text/plain": [
       "array([[10, 10, 10, 10],\n",
       "       [10, 10, 10, 10],\n",
       "       [10, 10, 10, 10]])"
      ]
     },
     "execution_count": 44,
     "metadata": {},
     "output_type": "execute_result"
    }
   ],
   "source": [
    "# Element-wise subtraction\n",
    "arr3-arr2"
   ]
  },
  {
   "cell_type": "code",
   "execution_count": 45,
   "id": "5756094e",
   "metadata": {},
   "outputs": [
    {
     "data": {
      "text/plain": [
       "array([[0.5, 1. , 1.5, 2. ],\n",
       "       [2.5, 3. , 3.5, 4. ],\n",
       "       [4.5, 0.5, 1. , 1.5]])"
      ]
     },
     "execution_count": 45,
     "metadata": {},
     "output_type": "execute_result"
    }
   ],
   "source": [
    "# Division by scalar\n",
    "arr2/2"
   ]
  },
  {
   "cell_type": "code",
   "execution_count": 46,
   "id": "b3e84cb3",
   "metadata": {},
   "outputs": [
    {
     "data": {
      "text/plain": [
       "array([[ 11,  24,  39,  56],\n",
       "       [ 75,  96, 119, 144],\n",
       "       [171,  11,  24,  39]])"
      ]
     },
     "execution_count": 46,
     "metadata": {},
     "output_type": "execute_result"
    }
   ],
   "source": [
    "# Element-wise multiplication\n",
    "arr2 * arr3"
   ]
  },
  {
   "cell_type": "code",
   "execution_count": 47,
   "id": "ff17c4ad",
   "metadata": {},
   "outputs": [
    {
     "data": {
      "text/plain": [
       "array([[1, 2, 3, 0],\n",
       "       [1, 2, 3, 0],\n",
       "       [1, 1, 2, 3]], dtype=int32)"
      ]
     },
     "execution_count": 47,
     "metadata": {},
     "output_type": "execute_result"
    }
   ],
   "source": [
    "# Modulas with scalar\n",
    "arr2 % 4"
   ]
  },
  {
   "cell_type": "code",
   "execution_count": 48,
   "id": "d5e43379",
   "metadata": {},
   "outputs": [],
   "source": [
    "# Broadcasting with compatible shape\n",
    "arr4 = np.array([4, 5, 6, 7])"
   ]
  },
  {
   "cell_type": "code",
   "execution_count": 49,
   "id": "db74b998",
   "metadata": {},
   "outputs": [
    {
     "data": {
      "text/plain": [
       "(4,)"
      ]
     },
     "execution_count": 49,
     "metadata": {},
     "output_type": "execute_result"
    }
   ],
   "source": [
    "arr4.shape"
   ]
  },
  {
   "cell_type": "code",
   "execution_count": 50,
   "id": "e4b89c4e",
   "metadata": {},
   "outputs": [
    {
     "data": {
      "text/plain": [
       "array([[ 5,  7,  9, 11],\n",
       "       [ 9, 11, 13, 15],\n",
       "       [13,  6,  8, 10]])"
      ]
     },
     "execution_count": 50,
     "metadata": {},
     "output_type": "execute_result"
    }
   ],
   "source": [
    "arr2 + arr4"
   ]
  },
  {
   "cell_type": "code",
   "execution_count": 51,
   "id": "368bad33",
   "metadata": {},
   "outputs": [
    {
     "data": {
      "text/plain": [
       "array([[False, False, False, False],\n",
       "       [False, False, False, False],\n",
       "       [False, False, False, False]])"
      ]
     },
     "execution_count": 51,
     "metadata": {},
     "output_type": "execute_result"
    }
   ],
   "source": [
    "# Comparision\n",
    "arr2 == arr3"
   ]
  },
  {
   "cell_type": "code",
   "execution_count": 52,
   "id": "14d28040",
   "metadata": {},
   "outputs": [
    {
     "data": {
      "text/plain": [
       "array([[ True,  True,  True,  True],\n",
       "       [ True,  True,  True,  True],\n",
       "       [ True,  True,  True,  True]])"
      ]
     },
     "execution_count": 52,
     "metadata": {},
     "output_type": "execute_result"
    }
   ],
   "source": [
    "arr2 <= arr3"
   ]
  },
  {
   "cell_type": "code",
   "execution_count": 53,
   "id": "0129979f",
   "metadata": {},
   "outputs": [
    {
     "data": {
      "text/plain": [
       "array([[ True,  True,  True,  True],\n",
       "       [ True,  True,  True,  True],\n",
       "       [ True,  True,  True,  True]])"
      ]
     },
     "execution_count": 53,
     "metadata": {},
     "output_type": "execute_result"
    }
   ],
   "source": [
    "arr3 !=arr2"
   ]
  },
  {
   "cell_type": "code",
   "execution_count": 54,
   "id": "f81beb7b",
   "metadata": {},
   "outputs": [
    {
     "data": {
      "text/plain": [
       "dtype('bool')"
      ]
     },
     "execution_count": 54,
     "metadata": {},
     "output_type": "execute_result"
    }
   ],
   "source": [
    "(arr2 == arr3).dtype"
   ]
  },
  {
   "cell_type": "code",
   "execution_count": 55,
   "id": "e77f54f7",
   "metadata": {},
   "outputs": [
    {
     "data": {
      "text/plain": [
       "0"
      ]
     },
     "execution_count": 55,
     "metadata": {},
     "output_type": "execute_result"
    }
   ],
   "source": [
    "# Number of matching elements in arrays\n",
    "(arr2 == arr3).sum()"
   ]
  },
  {
   "cell_type": "code",
   "execution_count": 56,
   "id": "5811ccdb",
   "metadata": {},
   "outputs": [],
   "source": [
    "# Array Indexing and Slicing"
   ]
  },
  {
   "cell_type": "code",
   "execution_count": 57,
   "id": "d3f40e38",
   "metadata": {},
   "outputs": [],
   "source": [
    "arr5 = np.array([\n",
    "    [[11, 12, 13, 14],\n",
    "    [13, 14, 15, 19]],\n",
    "    \n",
    "    [[15, 16, 17, 21],\n",
    "    [63, 92, 36, 18]],\n",
    "    \n",
    "    [[98, 32, 81, 23],\n",
    "    [17, 18, 19.5, 43]]\n",
    "])"
   ]
  },
  {
   "cell_type": "code",
   "execution_count": 58,
   "id": "2176dcaa",
   "metadata": {},
   "outputs": [
    {
     "data": {
      "text/plain": [
       "(3, 2, 4)"
      ]
     },
     "execution_count": 58,
     "metadata": {},
     "output_type": "execute_result"
    }
   ],
   "source": [
    "arr5.shape"
   ]
  },
  {
   "cell_type": "code",
   "execution_count": 59,
   "id": "6a921eb4",
   "metadata": {},
   "outputs": [
    {
     "data": {
      "text/plain": [
       "36.0"
      ]
     },
     "execution_count": 59,
     "metadata": {},
     "output_type": "execute_result"
    }
   ],
   "source": [
    "# Accessing to single element in the array\n",
    "arr5[1, 1, 2]"
   ]
  },
  {
   "cell_type": "code",
   "execution_count": 60,
   "id": "f8286404",
   "metadata": {},
   "outputs": [
    {
     "data": {
      "text/plain": [
       "36.0"
      ]
     },
     "execution_count": 60,
     "metadata": {},
     "output_type": "execute_result"
    }
   ],
   "source": [
    "arr5[1, 1, 2]"
   ]
  },
  {
   "cell_type": "code",
   "execution_count": 61,
   "id": "1933d94c",
   "metadata": {},
   "outputs": [
    {
     "data": {
      "text/plain": [
       "array([[[15., 16.]],\n",
       "\n",
       "       [[98., 32.]]])"
      ]
     },
     "execution_count": 61,
     "metadata": {},
     "output_type": "execute_result"
    }
   ],
   "source": [
    "# Subarray using ranges\n",
    "arr5[1:, 0:1, :2]"
   ]
  },
  {
   "cell_type": "code",
   "execution_count": 62,
   "id": "5fc1be48",
   "metadata": {},
   "outputs": [
    {
     "data": {
      "text/plain": [
       "array([[[11. , 12. , 13. , 14. ],\n",
       "        [13. , 14. , 15. , 19. ]],\n",
       "\n",
       "       [[15. , 16. , 17. , 21. ],\n",
       "        [63. , 92. , 36. , 18. ]],\n",
       "\n",
       "       [[98. , 32. , 81. , 23. ],\n",
       "        [17. , 18. , 19.5, 43. ]]])"
      ]
     },
     "execution_count": 62,
     "metadata": {},
     "output_type": "execute_result"
    }
   ],
   "source": [
    "arr5"
   ]
  },
  {
   "cell_type": "code",
   "execution_count": 63,
   "id": "c9752055",
   "metadata": {},
   "outputs": [
    {
     "data": {
      "text/plain": [
       "array([18., 43.])"
      ]
     },
     "execution_count": 63,
     "metadata": {},
     "output_type": "execute_result"
    }
   ],
   "source": [
    "# Mixing indices and ranges\n",
    "arr5[1:, 1, 3]"
   ]
  },
  {
   "cell_type": "code",
   "execution_count": 64,
   "id": "1287c85f",
   "metadata": {},
   "outputs": [],
   "source": [
    "# Other ways of creating Numpy arrays"
   ]
  },
  {
   "cell_type": "code",
   "execution_count": 65,
   "id": "79e2210c",
   "metadata": {},
   "outputs": [
    {
     "data": {
      "text/plain": [
       "array([[0., 0.],\n",
       "       [0., 0.],\n",
       "       [0., 0.]])"
      ]
     },
     "execution_count": 65,
     "metadata": {},
     "output_type": "execute_result"
    }
   ],
   "source": [
    "# All zeros\n",
    "np.zeros((3, 2))"
   ]
  },
  {
   "cell_type": "code",
   "execution_count": 66,
   "id": "800987d7",
   "metadata": {},
   "outputs": [
    {
     "data": {
      "text/plain": [
       "array([[[1., 1., 1.],\n",
       "        [1., 1., 1.]],\n",
       "\n",
       "       [[1., 1., 1.],\n",
       "        [1., 1., 1.]]])"
      ]
     },
     "execution_count": 66,
     "metadata": {},
     "output_type": "execute_result"
    }
   ],
   "source": [
    "# All ones\n",
    "np.ones([2, 2, 3])"
   ]
  },
  {
   "cell_type": "code",
   "execution_count": 67,
   "id": "df222dae",
   "metadata": {},
   "outputs": [
    {
     "data": {
      "text/plain": [
       "array([[1., 0., 0., 0.],\n",
       "       [0., 1., 0., 0.],\n",
       "       [0., 0., 1., 0.],\n",
       "       [0., 0., 0., 1.]])"
      ]
     },
     "execution_count": 67,
     "metadata": {},
     "output_type": "execute_result"
    }
   ],
   "source": [
    "# Identity matrix\n",
    "np.eye(4)"
   ]
  },
  {
   "cell_type": "code",
   "execution_count": 68,
   "id": "82c95799",
   "metadata": {},
   "outputs": [
    {
     "data": {
      "text/plain": [
       "array([0.90031712, 0.88853379, 0.89633421, 0.234706  , 0.89970078,\n",
       "       0.64890117, 0.86788911])"
      ]
     },
     "execution_count": 68,
     "metadata": {},
     "output_type": "execute_result"
    }
   ],
   "source": [
    "# Random vector\n",
    "np.random.rand(7)"
   ]
  },
  {
   "cell_type": "code",
   "execution_count": 69,
   "id": "ae481973",
   "metadata": {},
   "outputs": [
    {
     "data": {
      "text/plain": [
       "array([[[-1.18404413, -0.07779081,  0.8084871 ],\n",
       "        [-1.04847419, -0.31850161,  1.04504508],\n",
       "        [ 0.6128878 , -0.84600091, -0.3210091 ],\n",
       "        [-0.79963631, -0.46517546,  0.07775967]],\n",
       "\n",
       "       [[ 0.32416349, -1.06452682,  2.96065668],\n",
       "        [-0.75529296, -0.23779407, -0.61894293],\n",
       "        [ 0.46171567, -0.26652042, -0.24722437],\n",
       "        [ 0.51026631,  0.50134017,  1.01634463]],\n",
       "\n",
       "       [[ 1.02940085,  1.55357572, -1.72974058],\n",
       "        [ 0.88339232,  0.17032752,  0.75029817],\n",
       "        [ 1.70306546, -0.10066488,  0.73838678],\n",
       "        [ 2.21081068, -1.88705981, -1.44158042]]])"
      ]
     },
     "execution_count": 69,
     "metadata": {},
     "output_type": "execute_result"
    }
   ],
   "source": [
    "# Random matrix\n",
    "np.random.randn(3, 4, 3)"
   ]
  },
  {
   "cell_type": "code",
   "execution_count": 70,
   "id": "3c4287b8",
   "metadata": {},
   "outputs": [
    {
     "data": {
      "text/plain": [
       "array([[19, 19, 19],\n",
       "       [19, 19, 19]])"
      ]
     },
     "execution_count": 70,
     "metadata": {},
     "output_type": "execute_result"
    }
   ],
   "source": [
    "# Array with fixed value\n",
    "np.full([2,3], 19)"
   ]
  },
  {
   "cell_type": "code",
   "execution_count": 71,
   "id": "d81bb3fb",
   "metadata": {},
   "outputs": [
    {
     "data": {
      "text/plain": [
       "array([ 9, 12, 15, 18, 21, 24, 27, 30, 33, 36, 39, 42, 45, 48, 51, 54, 57,\n",
       "       60, 63, 66, 69, 72, 75, 78, 81, 84, 87])"
      ]
     },
     "execution_count": 71,
     "metadata": {},
     "output_type": "execute_result"
    }
   ],
   "source": [
    "# Range with start, end and step\n",
    "np.arange(9, 90, 3)"
   ]
  },
  {
   "cell_type": "code",
   "execution_count": 72,
   "id": "3f9daf71",
   "metadata": {},
   "outputs": [
    {
     "data": {
      "text/plain": [
       "array([[[ 9, 12, 15],\n",
       "        [18, 21, 24],\n",
       "        [27, 30, 33]],\n",
       "\n",
       "       [[36, 39, 42],\n",
       "        [45, 48, 51],\n",
       "        [54, 57, 60]],\n",
       "\n",
       "       [[63, 66, 69],\n",
       "        [72, 75, 78],\n",
       "        [81, 84, 87]]])"
      ]
     },
     "execution_count": 72,
     "metadata": {},
     "output_type": "execute_result"
    }
   ],
   "source": [
    "np.arange(9, 90, 3).reshape(3,3,3)"
   ]
  },
  {
   "cell_type": "code",
   "execution_count": 73,
   "id": "4e67fb09",
   "metadata": {},
   "outputs": [
    {
     "data": {
      "text/plain": [
       "array([ 3.        ,  4.41176471,  5.82352941,  7.23529412,  8.64705882,\n",
       "       10.05882353, 11.47058824, 12.88235294, 14.29411765, 15.70588235,\n",
       "       17.11764706, 18.52941176, 19.94117647, 21.35294118, 22.76470588,\n",
       "       24.17647059, 25.58823529, 27.        ])"
      ]
     },
     "execution_count": 73,
     "metadata": {},
     "output_type": "execute_result"
    }
   ],
   "source": [
    "# Equally spaced numbers in a range\n",
    "np.linspace(3, 27, 18)"
   ]
  },
  {
   "cell_type": "code",
   "execution_count": 74,
   "id": "f466d04f",
   "metadata": {},
   "outputs": [],
   "source": [
    "a1D = np.array([1, 2, 3, 4])\n",
    "a2D = np.array([[1, 2], [3, 4]])\n",
    "a3D = np.array([[[1, 2], [3, 4]], [[5, 6], [7, 8]]])"
   ]
  },
  {
   "cell_type": "code",
   "execution_count": 75,
   "id": "af9b8585",
   "metadata": {},
   "outputs": [
    {
     "name": "stdout",
     "output_type": "stream",
     "text": [
      "[[[1 2]\n",
      "  [3 4]]\n",
      "\n",
      " [[5 6]\n",
      "  [7 8]]]\n"
     ]
    }
   ],
   "source": [
    "print(a3D)"
   ]
  },
  {
   "cell_type": "code",
   "execution_count": 76,
   "id": "dd70446f",
   "metadata": {},
   "outputs": [
    {
     "name": "stdout",
     "output_type": "stream",
     "text": [
      "[[1 2]\n",
      " [3 4]]\n"
     ]
    }
   ],
   "source": [
    "print(a2D)"
   ]
  },
  {
   "cell_type": "code",
   "execution_count": null,
   "id": "56793148",
   "metadata": {},
   "outputs": [],
   "source": []
  }
 ],
 "metadata": {
  "kernelspec": {
   "display_name": "Python 3 (ipykernel)",
   "language": "python",
   "name": "python3"
  },
  "language_info": {
   "codemirror_mode": {
    "name": "ipython",
    "version": 3
   },
   "file_extension": ".py",
   "mimetype": "text/x-python",
   "name": "python",
   "nbconvert_exporter": "python",
   "pygments_lexer": "ipython3",
   "version": "3.11.5"
  }
 },
 "nbformat": 4,
 "nbformat_minor": 5
}
