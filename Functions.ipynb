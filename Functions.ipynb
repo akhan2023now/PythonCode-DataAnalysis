{
 "cells": [
  {
   "cell_type": "code",
   "execution_count": 1,
   "id": "ac2834a3",
   "metadata": {},
   "outputs": [],
   "source": [
    "# Functions and scope in Python"
   ]
  },
  {
   "cell_type": "code",
   "execution_count": 2,
   "id": "035a0685",
   "metadata": {},
   "outputs": [],
   "source": [
    "import math"
   ]
  },
  {
   "cell_type": "code",
   "execution_count": 3,
   "id": "15ee94de",
   "metadata": {},
   "outputs": [
    {
     "name": "stdout",
     "output_type": "stream",
     "text": [
      "1\n"
     ]
    }
   ],
   "source": [
    "# Rounding\n",
    "x = 5\n",
    "y = 9\n",
    "Div = x/y\n",
    "print(math.ceil(Div))"
   ]
  },
  {
   "cell_type": "code",
   "execution_count": 4,
   "id": "46f74297",
   "metadata": {},
   "outputs": [
    {
     "name": "stdout",
     "output_type": "stream",
     "text": [
      "Help on built-in function ceil in module math:\n",
      "\n",
      "ceil(x, /)\n",
      "    Return the ceiling of x as an Integral.\n",
      "    \n",
      "    This is the smallest integer >= x.\n",
      "\n"
     ]
    }
   ],
   "source": [
    "help(math.ceil)"
   ]
  },
  {
   "cell_type": "code",
   "execution_count": 5,
   "id": "fe46058f",
   "metadata": {},
   "outputs": [
    {
     "name": "stdout",
     "output_type": "stream",
     "text": [
      "Python is programming language\n"
     ]
    }
   ],
   "source": [
    "# Create a function and call it\n",
    "def my_function():\n",
    "     print(\"Python is programming language\")\n",
    "\n",
    "my_function()"
   ]
  },
  {
   "cell_type": "code",
   "execution_count": 8,
   "id": "71fb30e3",
   "metadata": {},
   "outputs": [
    {
     "name": "stdout",
     "output_type": "stream",
     "text": [
      "Sum: 90\n"
     ]
    }
   ],
   "source": [
    "# Functions as arguments\n",
    "\n",
    "def sum_values(*args):\n",
    "    total = sum(args)\n",
    "    print(\"Sum:\", total)\n",
    "\n",
    "# Calling the function with multiple arguments\n",
    "sum_values(11, 13, 25, 41)"
   ]
  },
  {
   "cell_type": "code",
   "execution_count": null,
   "id": "71087c27",
   "metadata": {},
   "outputs": [],
   "source": []
  },
  {
   "cell_type": "code",
   "execution_count": 5,
   "id": "3e9422cf",
   "metadata": {},
   "outputs": [],
   "source": [
    "# Create function to find loan EMI (Equated Monthly Instalment) using standard formula\n",
    "def loan_emi(amount, duration, rate, down_payment=0):\n",
    "    loan_amount = amount - down_payment\n",
    "    emi = loan_amount * rate * ((1+rate)**duration)/ (((1+rate)**duration)-1)\n",
    "    emi = math.ceil(emi)\n",
    "    return emi"
   ]
  },
  {
   "cell_type": "code",
   "execution_count": 6,
   "id": "8828cb62",
   "metadata": {},
   "outputs": [
    {
     "data": {
      "text/plain": [
       "629"
      ]
     },
     "execution_count": 6,
     "metadata": {},
     "output_type": "execute_result"
    }
   ],
   "source": [
    "# Car loan payment amount - Monthly\n",
    "cost_of_car = 35000\n",
    "car_loan_duration = 5*12 # months\n",
    "car_loan_rate = 0.0299/12 # monthly\n",
    "\n",
    "emi_car = loan_emi(amount=cost_of_car,\n",
    "                  duration=car_loan_duration,\n",
    "                  rate=car_loan_rate)\n",
    "emi_car"
   ]
  },
  {
   "cell_type": "code",
   "execution_count": 7,
   "id": "83a526d5",
   "metadata": {},
   "outputs": [
    {
     "data": {
      "text/plain": [
       "429"
      ]
     },
     "execution_count": 7,
     "metadata": {},
     "output_type": "execute_result"
    }
   ],
   "source": [
    "# Calculate Loan Payments for Student Loan\n",
    "P = 40000 # loan amount\n",
    "months = 120 # No. of months\n",
    "rate = .052 # Interest rate\n",
    "\n",
    "#calculate monthly payment based on above and display round number\n",
    "math.ceil((rate/12) * (1/(1-(1+rate/12)**(-months)))*P)"
   ]
  },
  {
   "cell_type": "code",
   "execution_count": 8,
   "id": "3e055cfd",
   "metadata": {},
   "outputs": [],
   "source": [
    "#ZeroDivisionError\n",
    "# Create function to find loan EMI using standard formula\n",
    "def loan_emi(amount, duration, rate, down_payment=0):\n",
    "    loan_amount = amount - down_payment\n",
    "    try:\n",
    "        emi = loan_amount * rate * ((1+rate)**duration)/ (((1+rate)**duration)-1)\n",
    "    except ZeroDivisionError:\n",
    "        emi = loan_amount / duration\n",
    "    emi = math.ceil(emi)\n",
    "    return emi"
   ]
  },
  {
   "cell_type": "code",
   "execution_count": 9,
   "id": "1533b8f1",
   "metadata": {},
   "outputs": [
    {
     "data": {
      "text/plain": [
       "584"
      ]
     },
     "execution_count": 9,
     "metadata": {},
     "output_type": "execute_result"
    }
   ],
   "source": [
    "# Car loan payment amount - Monthly\n",
    "cost_of_car = 35000\n",
    "car_loan_duration = 5*12 # months\n",
    "car_loan_rate = 0   # no interest\n",
    "\n",
    "emi_car = loan_emi(amount=cost_of_car,\n",
    "                  duration=car_loan_duration,\n",
    "                  rate=car_loan_rate)\n",
    "emi_car"
   ]
  },
  {
   "cell_type": "code",
   "execution_count": 10,
   "id": "a0984a71",
   "metadata": {},
   "outputs": [
    {
     "name": "stdout",
     "output_type": "stream",
     "text": [
      "The best city for your one-week trip is Florida with a total cost of $810.\n"
     ]
    }
   ],
   "source": [
    "# Find economic trip\n",
    "def calculate_total_cost(flight_cost, hotel_cost):\n",
    "    return flight_cost + hotel_cost * 7  # Assuming a one-week trip\n",
    "\n",
    "def choose_best_city(city_costs):\n",
    "    min_cost = float('inf')\n",
    "    best_city = None\n",
    "\n",
    "    for city, costs in city_costs.items():\n",
    "        total_cost = calculate_total_cost(costs['flight'], costs['hotel'])\n",
    "        if total_cost < min_cost:\n",
    "            min_cost = total_cost\n",
    "            best_city = city\n",
    "\n",
    "    return best_city, min_cost\n",
    "\n",
    "if __name__ == \"__main__\":\n",
    "    # Define flight and hotel costs for each city\n",
    "    city_costs = {\n",
    "        'London': {'flight': 200, 'hotel': 100},\n",
    "        'Paris': {'flight': 150, 'hotel': 120},\n",
    "        'Florida': {'flight': 180, 'hotel': 90},\n",
    "        'Dubai': {'flight': 220, 'hotel': 110},\n",
    "    }\n",
    "\n",
    "    # Choose the best city\n",
    "    best_city, min_cost = choose_best_city(city_costs)\n",
    "\n",
    "    # Print the result\n",
    "    print(f\"The best city for your one-week trip is {best_city} with a total cost of ${min_cost}.\")"
   ]
  },
  {
   "cell_type": "code",
   "execution_count": 11,
   "id": "d8f6f89e",
   "metadata": {},
   "outputs": [
    {
     "name": "stdout",
     "output_type": "stream",
     "text": [
      "Hello, Bahama!\n"
     ]
    }
   ],
   "source": [
    "def greet(name):\n",
    "    print(f\"Hello, {name}!\")\n",
    "\n",
    "if __name__ == \"__main__\":\n",
    "    # This code will only be executed \n",
    "    # if the script is run as the main program\n",
    "    greet(\"Bahama\")"
   ]
  },
  {
   "cell_type": "code",
   "execution_count": null,
   "id": "920e3dfa",
   "metadata": {},
   "outputs": [],
   "source": [
    "# Calculates the nth Fibonacci number"
   ]
  },
  {
   "cell_type": "code",
   "execution_count": 17,
   "id": "a353084d",
   "metadata": {},
   "outputs": [
    {
     "name": "stdout",
     "output_type": "stream",
     "text": [
      "The 20th Fibonacci number is: 55\n"
     ]
    }
   ],
   "source": [
    "def fibonacci(n):\n",
    "    \n",
    "    \"\"\"\n",
    "    Calculate the nth Fibonacci number using recursion.\n",
    "    :param n: The position of the Fibonacci number to calculate.\n",
    "    :return: The nth Fibonacci number.\n",
    "    \"\"\"\n",
    "    \n",
    "    if n <= 0:\n",
    "        return \"Invalid input. Please provide a positive integer.\"\n",
    "    elif n == 1:\n",
    "        return 0\n",
    "    elif n == 2:\n",
    "        return 1\n",
    "    else:\n",
    "        return fibonacci(n - 1) + fibonacci(n - 2)\n",
    "    \n",
    "    \n",
    "# Find 20th Fibonacci number\n",
    "result = fibonacci(11)\n",
    "print(f\"The 20th Fibonacci number is: {result}\")"
   ]
  },
  {
   "cell_type": "code",
   "execution_count": null,
   "id": "ecc06952",
   "metadata": {},
   "outputs": [],
   "source": []
  },
  {
   "cell_type": "code",
   "execution_count": null,
   "id": "0e70ecad",
   "metadata": {},
   "outputs": [],
   "source": []
  }
 ],
 "metadata": {
  "kernelspec": {
   "display_name": "Python 3 (ipykernel)",
   "language": "python",
   "name": "python3"
  },
  "language_info": {
   "codemirror_mode": {
    "name": "ipython",
    "version": 3
   },
   "file_extension": ".py",
   "mimetype": "text/x-python",
   "name": "python",
   "nbconvert_exporter": "python",
   "pygments_lexer": "ipython3",
   "version": "3.11.5"
  }
 },
 "nbformat": 4,
 "nbformat_minor": 5
}
