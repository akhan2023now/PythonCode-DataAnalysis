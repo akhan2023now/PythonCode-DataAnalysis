{
 "cells": [
  {
   "cell_type": "code",
   "execution_count": 1,
   "id": "8fa9e881",
   "metadata": {},
   "outputs": [],
   "source": [
    "# My Python Notebook"
   ]
  },
  {
   "cell_type": "code",
   "execution_count": 2,
   "id": "c9d6abfb",
   "metadata": {},
   "outputs": [
    {
     "name": "stdout",
     "output_type": "stream",
     "text": [
      "Hello World!!\n"
     ]
    }
   ],
   "source": [
    "print (\"Hello World!!\")"
   ]
  },
  {
   "cell_type": "markdown",
   "id": "08ac92fc",
   "metadata": {},
   "source": [
    "# Veriable in Python"
   ]
  },
  {
   "cell_type": "code",
   "execution_count": 3,
   "id": "c848ae10",
   "metadata": {},
   "outputs": [
    {
     "name": "stdout",
     "output_type": "stream",
     "text": [
      "22\n"
     ]
    }
   ],
   "source": [
    "x = 22\n",
    "print(x)"
   ]
  },
  {
   "cell_type": "code",
   "execution_count": 4,
   "id": "c87ab818",
   "metadata": {},
   "outputs": [
    {
     "name": "stdout",
     "output_type": "stream",
     "text": [
      "I'm doing great!\n"
     ]
    }
   ],
   "source": [
    "y=\"I'm doing great!\"\n",
    "print(y)"
   ]
  },
  {
   "cell_type": "code",
   "execution_count": 5,
   "id": "b0ce3c82",
   "metadata": {},
   "outputs": [
    {
     "data": {
      "text/plain": [
       "str"
      ]
     },
     "execution_count": 5,
     "metadata": {},
     "output_type": "execute_result"
    }
   ],
   "source": [
    "type(y)"
   ]
  },
  {
   "cell_type": "code",
   "execution_count": 6,
   "id": "ccef8745",
   "metadata": {},
   "outputs": [
    {
     "name": "stdout",
     "output_type": "stream",
     "text": [
      "Toyota\n",
      "Honda\n",
      "Kia\n"
     ]
    }
   ],
   "source": [
    "x,y,z =\"Toyota\", \"Honda\", \"Kia\"\n",
    "print(x)\n",
    "print(y)\n",
    "print(z)"
   ]
  },
  {
   "cell_type": "code",
   "execution_count": 7,
   "id": "a99ec0d7",
   "metadata": {},
   "outputs": [
    {
     "name": "stdout",
     "output_type": "stream",
     "text": [
      "Ford\n",
      "Mazda\n",
      "Discover\n"
     ]
    }
   ],
   "source": [
    "cars = ['Ford', 'Mazda', 'Discover']\n",
    "x,y,z= cars\n",
    "print(x)\n",
    "print(y)\n",
    "print(z)"
   ]
  },
  {
   "cell_type": "markdown",
   "id": "f1329a4b",
   "metadata": {},
   "source": [
    "# Arithmetic Operators"
   ]
  },
  {
   "cell_type": "code",
   "execution_count": 8,
   "id": "5a599eee",
   "metadata": {},
   "outputs": [
    {
     "data": {
      "text/plain": [
       "15"
      ]
     },
     "execution_count": 8,
     "metadata": {},
     "output_type": "execute_result"
    }
   ],
   "source": [
    "5+3+7"
   ]
  },
  {
   "cell_type": "code",
   "execution_count": 9,
   "id": "6270d893",
   "metadata": {},
   "outputs": [
    {
     "data": {
      "text/plain": [
       "68"
      ]
     },
     "execution_count": 9,
     "metadata": {},
     "output_type": "execute_result"
    }
   ],
   "source": [
    "89-21"
   ]
  },
  {
   "cell_type": "code",
   "execution_count": 10,
   "id": "7a66fdda",
   "metadata": {},
   "outputs": [
    {
     "data": {
      "text/plain": [
       "-270.71"
      ]
     },
     "execution_count": 10,
     "metadata": {},
     "output_type": "execute_result"
    }
   ],
   "source": [
    "11.77*-23"
   ]
  },
  {
   "cell_type": "code",
   "execution_count": 11,
   "id": "ccc37594",
   "metadata": {},
   "outputs": [
    {
     "data": {
      "text/plain": [
       "111.11111111111111"
      ]
     },
     "execution_count": 11,
     "metadata": {},
     "output_type": "execute_result"
    }
   ],
   "source": [
    "1000/9"
   ]
  },
  {
   "cell_type": "code",
   "execution_count": 12,
   "id": "c36ec62b",
   "metadata": {},
   "outputs": [
    {
     "data": {
      "text/plain": [
       "111"
      ]
     },
     "execution_count": 12,
     "metadata": {},
     "output_type": "execute_result"
    }
   ],
   "source": [
    "1000//9"
   ]
  },
  {
   "cell_type": "code",
   "execution_count": 13,
   "id": "1bda4cfc",
   "metadata": {},
   "outputs": [
    {
     "data": {
      "text/plain": [
       "625"
      ]
     },
     "execution_count": 13,
     "metadata": {},
     "output_type": "execute_result"
    }
   ],
   "source": [
    "5**4"
   ]
  },
  {
   "cell_type": "code",
   "execution_count": 14,
   "id": "99efa836",
   "metadata": {},
   "outputs": [
    {
     "data": {
      "text/plain": [
       "1.53125"
      ]
     },
     "execution_count": 14,
     "metadata": {},
     "output_type": "execute_result"
    }
   ],
   "source": [
    "((2 + 5) *(17-3)) / (4**3)"
   ]
  },
  {
   "cell_type": "code",
   "execution_count": 15,
   "id": "4aba8ca7",
   "metadata": {},
   "outputs": [
    {
     "data": {
      "text/plain": [
       "1"
      ]
     },
     "execution_count": 15,
     "metadata": {},
     "output_type": "execute_result"
    }
   ],
   "source": [
    "100 % 9"
   ]
  },
  {
   "cell_type": "code",
   "execution_count": 16,
   "id": "28be7c68",
   "metadata": {},
   "outputs": [
    {
     "data": {
      "text/plain": [
       "100"
      ]
     },
     "execution_count": 16,
     "metadata": {},
     "output_type": "execute_result"
    }
   ],
   "source": [
    "1 + 11*9"
   ]
  },
  {
   "cell_type": "markdown",
   "id": "ed2883ed",
   "metadata": {},
   "source": [
    "# Multi-step problems using veriable"
   ]
  },
  {
   "cell_type": "code",
   "execution_count": 17,
   "id": "ffe953f4",
   "metadata": {},
   "outputs": [],
   "source": [
    "# Variables\n",
    "cost_of_item = 1.30\n",
    "profit_margin = 0.25\n",
    "number_of_item = 700"
   ]
  },
  {
   "cell_type": "code",
   "execution_count": 18,
   "id": "11ca9350",
   "metadata": {},
   "outputs": [
    {
     "data": {
      "text/plain": [
       "1.3"
      ]
     },
     "execution_count": 18,
     "metadata": {},
     "output_type": "execute_result"
    }
   ],
   "source": [
    "cost_of_item"
   ]
  },
  {
   "cell_type": "code",
   "execution_count": 19,
   "id": "a45fd03c",
   "metadata": {},
   "outputs": [],
   "source": [
    "#Perform calculations\n",
    "profit_per_item = cost_of_item * profit_margin\n",
    "total_profit = profit_per_item * number_of_item"
   ]
  },
  {
   "cell_type": "code",
   "execution_count": 20,
   "id": "9a07de0b",
   "metadata": {},
   "outputs": [
    {
     "data": {
      "text/plain": [
       "0.325"
      ]
     },
     "execution_count": 20,
     "metadata": {},
     "output_type": "execute_result"
    }
   ],
   "source": [
    "profit_per_item"
   ]
  },
  {
   "cell_type": "code",
   "execution_count": 21,
   "id": "ce77902c",
   "metadata": {},
   "outputs": [
    {
     "name": "stdout",
     "output_type": "stream",
     "text": [
      "The total profit is : $ 227.5\n"
     ]
    }
   ],
   "source": [
    "# Print output\n",
    "print (\"The total profit is : $\",total_profit)"
   ]
  },
  {
   "cell_type": "code",
   "execution_count": null,
   "id": "2d490256",
   "metadata": {},
   "outputs": [],
   "source": []
  },
  {
   "cell_type": "markdown",
   "id": "d95e8cd9",
   "metadata": {},
   "source": [
    " ### Checking Conditions"
   ]
  },
  {
   "cell_type": "code",
   "execution_count": 22,
   "id": "9ef2c45c",
   "metadata": {},
   "outputs": [],
   "source": [
    "my_favorite_number = 1\n",
    "my_least_favorite_number = 5\n",
    "neutral_number = 3"
   ]
  },
  {
   "cell_type": "code",
   "execution_count": 23,
   "id": "1647c520",
   "metadata": {},
   "outputs": [
    {
     "data": {
      "text/plain": [
       "True"
      ]
     },
     "execution_count": 23,
     "metadata": {},
     "output_type": "execute_result"
    }
   ],
   "source": [
    "# Equality check - True\n",
    "my_favorite_number == 1"
   ]
  },
  {
   "cell_type": "code",
   "execution_count": 24,
   "id": "bdeda074",
   "metadata": {},
   "outputs": [
    {
     "data": {
      "text/plain": [
       "False"
      ]
     },
     "execution_count": 24,
     "metadata": {},
     "output_type": "execute_result"
    }
   ],
   "source": [
    "# Equality check - False\n",
    "my_favorite_number == 2"
   ]
  },
  {
   "cell_type": "code",
   "execution_count": 25,
   "id": "9ccd6bda",
   "metadata": {},
   "outputs": [
    {
     "data": {
      "text/plain": [
       "True"
      ]
     },
     "execution_count": 25,
     "metadata": {},
     "output_type": "execute_result"
    }
   ],
   "source": [
    "# Not equality check - True\n",
    "my_favorite_number != neutral_number"
   ]
  },
  {
   "cell_type": "code",
   "execution_count": 26,
   "id": "a1dae869",
   "metadata": {},
   "outputs": [
    {
     "data": {
      "text/plain": [
       "True"
      ]
     },
     "execution_count": 26,
     "metadata": {},
     "output_type": "execute_result"
    }
   ],
   "source": [
    "# Greater than check - True\n",
    "my_least_favorite_number > neutral_number"
   ]
  },
  {
   "cell_type": "code",
   "execution_count": 28,
   "id": "f943a184",
   "metadata": {},
   "outputs": [
    {
     "data": {
      "text/plain": [
       "False"
      ]
     },
     "execution_count": 28,
     "metadata": {},
     "output_type": "execute_result"
    }
   ],
   "source": [
    "# Less than check - False\n",
    "my_least_favorite_number < my_favorite_number"
   ]
  },
  {
   "cell_type": "code",
   "execution_count": 29,
   "id": "bbc95c94",
   "metadata": {},
   "outputs": [
    {
     "data": {
      "text/plain": [
       "True"
      ]
     },
     "execution_count": 29,
     "metadata": {},
     "output_type": "execute_result"
    }
   ],
   "source": [
    "# Greater than or equal check - True\n",
    "8 + 3 >= 10"
   ]
  },
  {
   "cell_type": "code",
   "execution_count": 30,
   "id": "fb59508e",
   "metadata": {},
   "outputs": [
    {
     "data": {
      "text/plain": [
       "False"
      ]
     },
     "execution_count": 30,
     "metadata": {},
     "output_type": "execute_result"
    }
   ],
   "source": [
    "# Less than or equal check - False\n",
    "8 + 3 <= 10"
   ]
  },
  {
   "cell_type": "code",
   "execution_count": 31,
   "id": "50ed2255",
   "metadata": {},
   "outputs": [
    {
     "data": {
      "text/plain": [
       "False"
      ]
     },
     "execution_count": 31,
     "metadata": {},
     "output_type": "execute_result"
    }
   ],
   "source": [
    "# Using not operator\n",
    "not neutral_number == 3"
   ]
  },
  {
   "cell_type": "code",
   "execution_count": null,
   "id": "30569420",
   "metadata": {},
   "outputs": [],
   "source": []
  },
  {
   "cell_type": "markdown",
   "id": "8ae56a90",
   "metadata": {},
   "source": [
    "### Logical operators"
   ]
  },
  {
   "cell_type": "code",
   "execution_count": 36,
   "id": "d48dae19",
   "metadata": {},
   "outputs": [
    {
     "name": "stdout",
     "output_type": "stream",
     "text": [
      "Atleast one number has boolean value as False\n"
     ]
    }
   ],
   "source": [
    "# logical \"and\" operator \n",
    "a = 15.33\n",
    "b = 12\n",
    "c = 0\n",
    "if a and b and c: \n",
    "    print(\"All the numbers have boolean value as True\") \n",
    "else: \n",
    "    print(\"Atleast one number has boolean value as False\")"
   ]
  },
  {
   "cell_type": "code",
   "execution_count": 41,
   "id": "343bb90b",
   "metadata": {},
   "outputs": [
    {
     "name": "stdout",
     "output_type": "stream",
     "text": [
      "True\n"
     ]
    }
   ],
   "source": [
    "# logical \"and\" operator \n",
    "a = 5\n",
    "b = 6\n",
    "\n",
    "print((a > 2) and (b >= 6)) "
   ]
  },
  {
   "cell_type": "code",
   "execution_count": 43,
   "id": "ab5341f4",
   "metadata": {},
   "outputs": [
    {
     "name": "stdout",
     "output_type": "stream",
     "text": [
      "False\n"
     ]
    }
   ],
   "source": [
    "# logical \"or\" operator \n",
    "a = 5\n",
    "b = 6\n",
    "\n",
    "print((a < 2) or (b > 6)) "
   ]
  },
  {
   "cell_type": "code",
   "execution_count": 49,
   "id": "98ca116e",
   "metadata": {},
   "outputs": [
    {
     "name": "stdout",
     "output_type": "stream",
     "text": [
      "False\n"
     ]
    }
   ],
   "source": [
    "# logical \"not\" operator\n",
    "a = 5\n",
    "b = 6\n",
    "\n",
    "print((a > 2) is not (b >= 6)) \n"
   ]
  },
  {
   "cell_type": "code",
   "execution_count": 47,
   "id": "37a60526",
   "metadata": {},
   "outputs": [
    {
     "name": "stdout",
     "output_type": "stream",
     "text": [
      "('a and b is', False)\n",
      "('a or b is', True)\n",
      "('not a is', False)\n"
     ]
    }
   ],
   "source": [
    "a = True\n",
    "b = False\n",
    "print(('a and b is',a and b))\n",
    "print(('a or b is',a or b))\n",
    "print(('not a is',not a))"
   ]
  },
  {
   "cell_type": "code",
   "execution_count": null,
   "id": "8b83d2a3",
   "metadata": {},
   "outputs": [],
   "source": []
  }
 ],
 "metadata": {
  "kernelspec": {
   "display_name": "Python 3 (ipykernel)",
   "language": "python",
   "name": "python3"
  },
  "language_info": {
   "codemirror_mode": {
    "name": "ipython",
    "version": 3
   },
   "file_extension": ".py",
   "mimetype": "text/x-python",
   "name": "python",
   "nbconvert_exporter": "python",
   "pygments_lexer": "ipython3",
   "version": "3.11.5"
  }
 },
 "nbformat": 4,
 "nbformat_minor": 5
}
