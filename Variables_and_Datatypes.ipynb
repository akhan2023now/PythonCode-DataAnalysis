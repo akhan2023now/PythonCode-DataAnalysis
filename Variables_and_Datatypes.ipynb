{
 "cells": [
  {
   "cell_type": "code",
   "execution_count": 1,
   "id": "8fa9e881",
   "metadata": {},
   "outputs": [],
   "source": [
    "# My Python Notebook"
   ]
  },
  {
   "cell_type": "code",
   "execution_count": 2,
   "id": "a0845517",
   "metadata": {},
   "outputs": [],
   "source": [
    "# Creating Varables and checking Data Types"
   ]
  },
  {
   "cell_type": "code",
   "execution_count": 3,
   "id": "d96dde6c",
   "metadata": {},
   "outputs": [
    {
     "name": "stdout",
     "output_type": "stream",
     "text": [
      "Working on Python Project!\n"
     ]
    }
   ],
   "source": [
    "a_number = 'Working on Python Project!'\n",
    "print (a_number)"
   ]
  },
  {
   "cell_type": "code",
   "execution_count": 4,
   "id": "7bb75c80",
   "metadata": {},
   "outputs": [
    {
     "data": {
      "text/plain": [
       "str"
      ]
     },
     "execution_count": 4,
     "metadata": {},
     "output_type": "execute_result"
    }
   ],
   "source": [
    "type(a_number)"
   ]
  },
  {
   "cell_type": "code",
   "execution_count": 1,
   "id": "e66eb95d",
   "metadata": {},
   "outputs": [
    {
     "name": "stdout",
     "output_type": "stream",
     "text": [
      "3.14\n"
     ]
    }
   ],
   "source": [
    "pi = 3.14\n",
    "print(pi)"
   ]
  },
  {
   "cell_type": "code",
   "execution_count": 2,
   "id": "d5d79f98",
   "metadata": {},
   "outputs": [
    {
     "data": {
      "text/plain": [
       "float"
      ]
     },
     "execution_count": 2,
     "metadata": {},
     "output_type": "execute_result"
    }
   ],
   "source": [
    "type(45 * 3.0)"
   ]
  },
  {
   "cell_type": "code",
   "execution_count": 6,
   "id": "387c81ec",
   "metadata": {},
   "outputs": [
    {
     "data": {
      "text/plain": [
       "5"
      ]
     },
     "execution_count": 6,
     "metadata": {},
     "output_type": "execute_result"
    }
   ],
   "source": [
    "5 + False"
   ]
  },
  {
   "cell_type": "code",
   "execution_count": 7,
   "id": "e36b6b66",
   "metadata": {},
   "outputs": [
    {
     "data": {
      "text/plain": [
       "8"
      ]
     },
     "execution_count": 7,
     "metadata": {},
     "output_type": "execute_result"
    }
   ],
   "source": [
    "7 + True"
   ]
  },
  {
   "cell_type": "code",
   "execution_count": 1,
   "id": "93b9653c",
   "metadata": {},
   "outputs": [],
   "source": [
    "# Performing operations on variables\n",
    "x = 10\n",
    "y = 5\n",
    "\n",
    "# Addition\n",
    "sum_result = x + y\n",
    "\n",
    "# Subtraction\n",
    "difference = x - y\n",
    "\n",
    "# Multiplication\n",
    "product = x * y\n",
    "\n",
    "# Division\n",
    "quotient = x / y\n",
    "\n",
    "# Modulus (remainder)\n",
    "remainder = x % y"
   ]
  },
  {
   "cell_type": "code",
   "execution_count": 2,
   "id": "5b92e0e9",
   "metadata": {},
   "outputs": [
    {
     "name": "stdout",
     "output_type": "stream",
     "text": [
      "5\n"
     ]
    }
   ],
   "source": [
    "print(difference)"
   ]
  },
  {
   "cell_type": "code",
   "execution_count": 3,
   "id": "ba8ba415",
   "metadata": {},
   "outputs": [
    {
     "data": {
      "text/plain": [
       "0"
      ]
     },
     "execution_count": 3,
     "metadata": {},
     "output_type": "execute_result"
    }
   ],
   "source": [
    "remainder"
   ]
  },
  {
   "cell_type": "code",
   "execution_count": 8,
   "id": "02fe0d57",
   "metadata": {},
   "outputs": [
    {
     "name": "stdout",
     "output_type": "stream",
     "text": [
      "[19, 10, 23, 18, 15, 11]\n"
     ]
    }
   ],
   "source": [
    "# Reversing a list using slicing technique\n",
    "def Reverse(lst):\n",
    "   new_lst = lst[::-1]\n",
    "   return new_lst\n",
    " \n",
    " \n",
    "lst = [11, 15, 18, 23, 10, 19]\n",
    "print(Reverse(lst))"
   ]
  },
  {
   "cell_type": "code",
   "execution_count": 5,
   "id": "ee3aaea8",
   "metadata": {},
   "outputs": [
    {
     "name": "stdout",
     "output_type": "stream",
     "text": [
      "[12, 11, 10, 9, 8, 7, 6, 5, 4, 3, 2, 1]\n"
     ]
    }
   ],
   "source": [
    "# Reversing a list using two-pointer approach\n",
    "def reverse_list(arr):\n",
    "    left = 0\n",
    "    right = len(arr)-1\n",
    "    while (left < right):\n",
    "        # Swap\n",
    "        temp = arr[left]\n",
    "        arr[left] = arr[right]\n",
    "        arr[right] = temp\n",
    "        left += 1\n",
    "        right -= 1\n",
    " \n",
    "    return arr\n",
    " \n",
    "arr = [1, 2, 3, 4, 5, 6, 7, 8, 9, 10, 11, 12]\n",
    "print(reverse_list(arr))"
   ]
  },
  {
   "cell_type": "code",
   "execution_count": 10,
   "id": "6ddd8877",
   "metadata": {},
   "outputs": [
    {
     "name": "stdout",
     "output_type": "stream",
     "text": [
      "['apple', 'orange', 'cherry', 'grape', [9, 10, 23, 77]]\n"
     ]
    }
   ],
   "source": [
    "# Add the elements of one list to the end of another list\n",
    "my_list = ['apple', 'orange', 'cherry' , 'grape']\n",
    "another_list = [9, 10, 23, 77]\n",
    "my_list.append(another_list)\n",
    "print (my_list)"
   ]
  },
  {
   "cell_type": "code",
   "execution_count": 11,
   "id": "1501187e",
   "metadata": {},
   "outputs": [
    {
     "name": "stdout",
     "output_type": "stream",
     "text": [
      "['apple', 'banana', 'durian', 3, 4, 7, 10]\n"
     ]
    }
   ],
   "source": [
    "my_list = ['apple', 'banana' , 'durian']\n",
    "another_list = [3, 4, 7, 10]\n",
    "my_list.extend(another_list)\n",
    "print (my_list)"
   ]
  },
  {
   "cell_type": "code",
   "execution_count": 12,
   "id": "18c5f132",
   "metadata": {},
   "outputs": [
    {
     "name": "stdout",
     "output_type": "stream",
     "text": [
      "The list is: ['durian', 'kiwi', 'pineApple', 'orange', 'apple']\n",
      "The reverse sorted List is: ['apple', 'durian', 'kiwi', 'orange', 'pineApple']\n"
     ]
    }
   ],
   "source": [
    "# Sort a list od strings in alphabetic order\n",
    "myList = ['durian' , 'kiwi' , 'pineApple' , 'orange' , 'apple']\n",
    "print(\"The list is:\" , myList)\n",
    "myList.sort()\n",
    "print(\"The reverse sorted List is:\" , myList)\n"
   ]
  },
  {
   "cell_type": "code",
   "execution_count": 4,
   "id": "e95bde92",
   "metadata": {},
   "outputs": [
    {
     "name": "stdout",
     "output_type": "stream",
     "text": [
      "List in Ascending Order:  [1, 2, 2, 2, 3, 7, 7, 8, 8, 9, 11, 23]\n",
      "List in Descending Order:  [23, 11, 9, 8, 8, 7, 7, 3, 2, 2, 2, 1]\n"
     ]
    }
   ],
   "source": [
    "# Sort a list of numbers in decreasing order\n",
    "nums = [1, 7, 23, 8, 2, 2, 2, 9, 11, 8, 7, 3]\n",
    "nums.sort()\n",
    "print('List in Ascending Order: ', nums)\n",
    "\n",
    "nums.sort(reverse=True)\n",
    "print('List in Descending Order: ', nums)"
   ]
  },
  {
   "cell_type": "markdown",
   "id": "465da580",
   "metadata": {},
   "source": [
    "### Dictionary"
   ]
  },
  {
   "cell_type": "code",
   "execution_count": 14,
   "id": "907e9911",
   "metadata": {},
   "outputs": [],
   "source": [
    "person1 = {\n",
    "    'name': 'John Adam',\n",
    "    'sex' : 'Male',\n",
    "    'age' : 35,\n",
    "    'married' : True\n",
    "}  "
   ]
  },
  {
   "cell_type": "code",
   "execution_count": 15,
   "id": "8e2919ad",
   "metadata": {},
   "outputs": [
    {
     "data": {
      "text/plain": [
       "{'name': 'John Adam', 'sex': 'Male', 'age': 35, 'married': True}"
      ]
     },
     "execution_count": 15,
     "metadata": {},
     "output_type": "execute_result"
    }
   ],
   "source": [
    "person1"
   ]
  },
  {
   "cell_type": "code",
   "execution_count": 16,
   "id": "d3c70cb5",
   "metadata": {},
   "outputs": [],
   "source": [
    "person2 = dict(name='Abdur Khan', sex = 'Male' , age= 54, married = True)"
   ]
  },
  {
   "cell_type": "code",
   "execution_count": 17,
   "id": "3f70e57f",
   "metadata": {},
   "outputs": [
    {
     "data": {
      "text/plain": [
       "{'name': 'Abdur Khan', 'sex': 'Male', 'age': 54, 'married': True}"
      ]
     },
     "execution_count": 17,
     "metadata": {},
     "output_type": "execute_result"
    }
   ],
   "source": [
    "person2"
   ]
  },
  {
   "cell_type": "code",
   "execution_count": 18,
   "id": "31d265e3",
   "metadata": {},
   "outputs": [
    {
     "data": {
      "text/plain": [
       "dict"
      ]
     },
     "execution_count": 18,
     "metadata": {},
     "output_type": "execute_result"
    }
   ],
   "source": [
    "type(person1)"
   ]
  },
  {
   "cell_type": "code",
   "execution_count": 19,
   "id": "7155e394",
   "metadata": {},
   "outputs": [
    {
     "data": {
      "text/plain": [
       "'John Adam'"
      ]
     },
     "execution_count": 19,
     "metadata": {},
     "output_type": "execute_result"
    }
   ],
   "source": [
    "person1['name']"
   ]
  },
  {
   "cell_type": "code",
   "execution_count": 20,
   "id": "3902a477",
   "metadata": {},
   "outputs": [
    {
     "data": {
      "text/plain": [
       "'Unknown'"
      ]
     },
     "execution_count": 20,
     "metadata": {},
     "output_type": "execute_result"
    }
   ],
   "source": [
    "person2.get(\"address\" , \"Unknown\")"
   ]
  },
  {
   "cell_type": "code",
   "execution_count": 21,
   "id": "8dfc7e26",
   "metadata": {},
   "outputs": [],
   "source": [
    "person1['address']= '53, Brook Heaven Rd '"
   ]
  },
  {
   "cell_type": "code",
   "execution_count": 22,
   "id": "7a5b7c65",
   "metadata": {},
   "outputs": [
    {
     "data": {
      "text/plain": [
       "{'name': 'John Adam',\n",
       " 'sex': 'Male',\n",
       " 'age': 35,\n",
       " 'married': True,\n",
       " 'address': '53, Brook Heaven Rd '}"
      ]
     },
     "execution_count": 22,
     "metadata": {},
     "output_type": "execute_result"
    }
   ],
   "source": [
    "person1"
   ]
  },
  {
   "cell_type": "code",
   "execution_count": 23,
   "id": "4fd6bb36",
   "metadata": {},
   "outputs": [
    {
     "data": {
      "text/plain": [
       "dict_keys(['name', 'sex', 'age', 'married', 'address'])"
      ]
     },
     "execution_count": 23,
     "metadata": {},
     "output_type": "execute_result"
    }
   ],
   "source": [
    "person1.keys()"
   ]
  },
  {
   "cell_type": "code",
   "execution_count": 24,
   "id": "ab69ffe7",
   "metadata": {},
   "outputs": [
    {
     "data": {
      "text/plain": [
       "dict_values(['John Adam', 'Male', 35, True, '53, Brook Heaven Rd '])"
      ]
     },
     "execution_count": 24,
     "metadata": {},
     "output_type": "execute_result"
    }
   ],
   "source": [
    "person1.values()"
   ]
  },
  {
   "cell_type": "code",
   "execution_count": 25,
   "id": "efb95fea",
   "metadata": {},
   "outputs": [
    {
     "data": {
      "text/plain": [
       "dict_items([('name', 'John Adam'), ('sex', 'Male'), ('age', 35), ('married', True), ('address', '53, Brook Heaven Rd ')])"
      ]
     },
     "execution_count": 25,
     "metadata": {},
     "output_type": "execute_result"
    }
   ],
   "source": [
    "person1.items()"
   ]
  },
  {
   "cell_type": "code",
   "execution_count": 8,
   "id": "7fe554a8",
   "metadata": {},
   "outputs": [
    {
     "name": "stdout",
     "output_type": "stream",
     "text": [
      "Lake Hefner have panaromic view\n",
      "Lake Hefner is beatiful\n"
     ]
    }
   ],
   "source": [
    "# Create a varible inside a function having same name as the global variables\n",
    "\n",
    "x = \"beatiful\"\n",
    "\n",
    "def myfunc():\n",
    "  x = \"panaromic view\"\n",
    "  print(\"Lake Hefner have \" + x)\n",
    "\n",
    "myfunc()\n",
    "\n",
    "print(\"Lake Hefner is \" + x)"
   ]
  },
  {
   "cell_type": "code",
   "execution_count": null,
   "id": "0ff4f64b",
   "metadata": {},
   "outputs": [],
   "source": []
  }
 ],
 "metadata": {
  "kernelspec": {
   "display_name": "Python 3 (ipykernel)",
   "language": "python",
   "name": "python3"
  },
  "language_info": {
   "codemirror_mode": {
    "name": "ipython",
    "version": 3
   },
   "file_extension": ".py",
   "mimetype": "text/x-python",
   "name": "python",
   "nbconvert_exporter": "python",
   "pygments_lexer": "ipython3",
   "version": "3.11.5"
  }
 },
 "nbformat": 4,
 "nbformat_minor": 5
}
