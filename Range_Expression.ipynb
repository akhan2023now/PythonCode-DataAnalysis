{
 "cells": [
  {
   "cell_type": "code",
   "execution_count": 1,
   "id": "70337698",
   "metadata": {},
   "outputs": [],
   "source": [
    "# Range, Expression\n",
    "import pandas as pd\n",
    "import numpy as np"
   ]
  },
  {
   "cell_type": "code",
   "execution_count": 2,
   "id": "805ae228",
   "metadata": {},
   "outputs": [
    {
     "name": "stdout",
     "output_type": "stream",
     "text": [
      "range(0, 10)\n"
     ]
    }
   ],
   "source": [
    "range_without_start = range(10)\n",
    "print(range_without_start)"
   ]
  },
  {
   "cell_type": "code",
   "execution_count": 3,
   "id": "8da77dcb",
   "metadata": {},
   "outputs": [
    {
     "name": "stdout",
     "output_type": "stream",
     "text": [
      "[0, 1, 2, 3, 4, 5, 6, 7, 8, 9]\n"
     ]
    }
   ],
   "source": [
    "range_without_start = range(10)\n",
    "print(list(range_without_start))"
   ]
  },
  {
   "cell_type": "code",
   "execution_count": 4,
   "id": "b5741f1c",
   "metadata": {},
   "outputs": [
    {
     "name": "stdout",
     "output_type": "stream",
     "text": [
      "[0, 1, 2, 3, 4, 5, 6, 7, 8, 9]\n"
     ]
    }
   ],
   "source": [
    "range_with_start_0 = range(0, 10)\n",
    "print(list(range_with_start_0))"
   ]
  },
  {
   "cell_type": "code",
   "execution_count": 5,
   "id": "d73a8878",
   "metadata": {},
   "outputs": [
    {
     "name": "stdout",
     "output_type": "stream",
     "text": [
      "20 40 60 80 100 "
     ]
    }
   ],
   "source": [
    "for num in range(1, 11):\n",
    "    if num % 2 == 0:\n",
    "        print(num * 10, end = \" \")"
   ]
  },
  {
   "cell_type": "code",
   "execution_count": 6,
   "id": "0a265d2e",
   "metadata": {},
   "outputs": [
    {
     "data": {
      "text/plain": [
       "['None', 20, 'None', 40, 'None', 60, 'None', 80, 'None', 100]"
      ]
     },
     "execution_count": 6,
     "metadata": {},
     "output_type": "execute_result"
    }
   ],
   "source": [
    "[num * 10 if num % 2 == 0 else \"None\" for num in list(range(1, 11))]"
   ]
  },
  {
   "cell_type": "code",
   "execution_count": 7,
   "id": "0c31dab6",
   "metadata": {},
   "outputs": [
    {
     "name": "stdout",
     "output_type": "stream",
     "text": [
      "246140.015625\n"
     ]
    }
   ],
   "source": [
    "math_expression = lambda x: ((153 - x ** 3) ** 4) / ((1 + x) ** 5)\n",
    "result = math_expression(3)\n",
    "print(result)"
   ]
  },
  {
   "cell_type": "code",
   "execution_count": 8,
   "id": "ca51250a",
   "metadata": {},
   "outputs": [
    {
     "data": {
      "text/plain": [
       "list"
      ]
     },
     "execution_count": 8,
     "metadata": {},
     "output_type": "execute_result"
    }
   ],
   "source": [
    "employee_names = ['Amy White', 'Jack Stewart', 'Richard Lauderdale', 'Sara Johnson']\n",
    "type(employee_names)"
   ]
  },
  {
   "cell_type": "code",
   "execution_count": 9,
   "id": "da32af99",
   "metadata": {},
   "outputs": [
    {
     "name": "stdout",
     "output_type": "stream",
     "text": [
      "employee_names is a list.\n"
     ]
    }
   ],
   "source": [
    "if isinstance(employee_names, list):\n",
    "    print(\"employee_names is a list.\")\n",
    "else:\n",
    "    print(\"employee_names is not a list.\")"
   ]
  },
  {
   "cell_type": "code",
   "execution_count": 10,
   "id": "dc828c9b",
   "metadata": {},
   "outputs": [],
   "source": [
    "employee_names_Series = pd.Series(employee_names)\n"
   ]
  },
  {
   "cell_type": "code",
   "execution_count": 11,
   "id": "0c135bf0",
   "metadata": {},
   "outputs": [
    {
     "data": {
      "text/plain": [
       "0             Amy White\n",
       "1          Jack Stewart\n",
       "2    Richard Lauderdale\n",
       "3          Sara Johnson\n",
       "dtype: object"
      ]
     },
     "execution_count": 11,
     "metadata": {},
     "output_type": "execute_result"
    }
   ],
   "source": [
    "employee_names_Series"
   ]
  },
  {
   "cell_type": "code",
   "execution_count": 12,
   "id": "1410436a",
   "metadata": {},
   "outputs": [
    {
     "data": {
      "text/plain": [
       "pandas.core.series.Series"
      ]
     },
     "execution_count": 12,
     "metadata": {},
     "output_type": "execute_result"
    }
   ],
   "source": [
    "type(employee_names_Series)"
   ]
  },
  {
   "cell_type": "code",
   "execution_count": 13,
   "id": "9b07f4f8",
   "metadata": {},
   "outputs": [
    {
     "data": {
      "text/plain": [
       "0     5\n",
       "1     8\n",
       "2     3\n",
       "3    10\n",
       "dtype: int64"
      ]
     },
     "execution_count": 13,
     "metadata": {},
     "output_type": "execute_result"
    }
   ],
   "source": [
    "work_experience_years = pd.Series([5,8,3,10])\n",
    "work_experience_years"
   ]
  },
  {
   "cell_type": "code",
   "execution_count": 14,
   "id": "e7356498",
   "metadata": {},
   "outputs": [
    {
     "data": {
      "text/plain": [
       "array([50, 53, 35, 43])"
      ]
     },
     "execution_count": 14,
     "metadata": {},
     "output_type": "execute_result"
    }
   ],
   "source": [
    "import numpy as np\n",
    "array_age = np.array([50, 53, 35, 43])\n",
    "array_age"
   ]
  },
  {
   "cell_type": "code",
   "execution_count": 15,
   "id": "d5807294",
   "metadata": {},
   "outputs": [
    {
     "data": {
      "text/plain": [
       "numpy.ndarray"
      ]
     },
     "execution_count": 15,
     "metadata": {},
     "output_type": "execute_result"
    }
   ],
   "source": [
    "type(array_age)"
   ]
  },
  {
   "cell_type": "code",
   "execution_count": 16,
   "id": "85471008",
   "metadata": {},
   "outputs": [
    {
     "data": {
      "text/plain": [
       "array([[1000.  ,   50.  ,   78.45],\n",
       "       [ 700.  ,  112.  ,   35.5 ]])"
      ]
     },
     "execution_count": 16,
     "metadata": {},
     "output_type": "execute_result"
    }
   ],
   "source": [
    "array_c = np.array([[1000, 50, 78.45], [700, 112, 35.5]])\n",
    "array_c"
   ]
  },
  {
   "cell_type": "code",
   "execution_count": 17,
   "id": "75692f59",
   "metadata": {},
   "outputs": [
    {
     "data": {
      "text/plain": [
       "['No. of Employees', 'Avg. Annual Revenue ($)', 'Share price ($)']"
      ]
     },
     "execution_count": 17,
     "metadata": {},
     "output_type": "execute_result"
    }
   ],
   "source": [
    "['No. of Employees', 'Avg. Annual Revenue ($)', 'Share price ($)']"
   ]
  },
  {
   "cell_type": "code",
   "execution_count": 18,
   "id": "d43a851e",
   "metadata": {},
   "outputs": [
    {
     "data": {
      "text/plain": [
       "['Company A', 'Company B']"
      ]
     },
     "execution_count": 18,
     "metadata": {},
     "output_type": "execute_result"
    }
   ],
   "source": [
    "['Company A', 'Company B']"
   ]
  },
  {
   "cell_type": "code",
   "execution_count": 19,
   "id": "c798dca9",
   "metadata": {},
   "outputs": [],
   "source": [
    "company_statistics = pd.DataFrame(array_c, columns = ['No. of Employees', 'Avg. Annual Revenue ($)', 'Share price ($)'], index = ['Company A', 'Company B'])"
   ]
  },
  {
   "cell_type": "code",
   "execution_count": 20,
   "id": "ab7366e6",
   "metadata": {},
   "outputs": [
    {
     "data": {
      "text/html": [
       "<div>\n",
       "<style scoped>\n",
       "    .dataframe tbody tr th:only-of-type {\n",
       "        vertical-align: middle;\n",
       "    }\n",
       "\n",
       "    .dataframe tbody tr th {\n",
       "        vertical-align: top;\n",
       "    }\n",
       "\n",
       "    .dataframe thead th {\n",
       "        text-align: right;\n",
       "    }\n",
       "</style>\n",
       "<table border=\"1\" class=\"dataframe\">\n",
       "  <thead>\n",
       "    <tr style=\"text-align: right;\">\n",
       "      <th></th>\n",
       "      <th>No. of Employees</th>\n",
       "      <th>Avg. Annual Revenue ($)</th>\n",
       "      <th>Share price ($)</th>\n",
       "    </tr>\n",
       "  </thead>\n",
       "  <tbody>\n",
       "    <tr>\n",
       "      <th>Company A</th>\n",
       "      <td>1000.0</td>\n",
       "      <td>50.0</td>\n",
       "      <td>78.45</td>\n",
       "    </tr>\n",
       "    <tr>\n",
       "      <th>Company B</th>\n",
       "      <td>700.0</td>\n",
       "      <td>112.0</td>\n",
       "      <td>35.50</td>\n",
       "    </tr>\n",
       "  </tbody>\n",
       "</table>\n",
       "</div>"
      ],
      "text/plain": [
       "           No. of Employees  Avg. Annual Revenue ($)  Share price ($)\n",
       "Company A            1000.0                     50.0            78.45\n",
       "Company B             700.0                    112.0            35.50"
      ]
     },
     "execution_count": 20,
     "metadata": {},
     "output_type": "execute_result"
    }
   ],
   "source": [
    "company_statistics"
   ]
  },
  {
   "cell_type": "code",
   "execution_count": 21,
   "id": "9a218d84",
   "metadata": {},
   "outputs": [
    {
     "data": {
      "text/plain": [
       "array([['Amy White', '50', '5'],\n",
       "       ['Jack Stewart', '53', '8'],\n",
       "       ['Richard Lauder', '35', '3'],\n",
       "       ['Sara Johnson', '43', '10']], dtype='<U14')"
      ]
     },
     "execution_count": 21,
     "metadata": {},
     "output_type": "execute_result"
    }
   ],
   "source": [
    "array_a = np.array([['Amy White',50,5],['Jack Stewart',53,8], ['Richard Lauder',35,3],['Sara Johnson',43,10]])\n",
    "array_a"
   ]
  },
  {
   "cell_type": "code",
   "execution_count": 22,
   "id": "37b06fe6",
   "metadata": {},
   "outputs": [],
   "source": [
    "df = pd.DataFrame(array_a, columns = ['Name', 'Age', 'Work Experience(Yrs)'])"
   ]
  },
  {
   "cell_type": "code",
   "execution_count": 23,
   "id": "78f60c9a",
   "metadata": {},
   "outputs": [
    {
     "data": {
      "text/html": [
       "<div>\n",
       "<style scoped>\n",
       "    .dataframe tbody tr th:only-of-type {\n",
       "        vertical-align: middle;\n",
       "    }\n",
       "\n",
       "    .dataframe tbody tr th {\n",
       "        vertical-align: top;\n",
       "    }\n",
       "\n",
       "    .dataframe thead th {\n",
       "        text-align: right;\n",
       "    }\n",
       "</style>\n",
       "<table border=\"1\" class=\"dataframe\">\n",
       "  <thead>\n",
       "    <tr style=\"text-align: right;\">\n",
       "      <th></th>\n",
       "      <th>Name</th>\n",
       "      <th>Age</th>\n",
       "      <th>Work Experience(Yrs)</th>\n",
       "    </tr>\n",
       "  </thead>\n",
       "  <tbody>\n",
       "    <tr>\n",
       "      <th>0</th>\n",
       "      <td>Amy White</td>\n",
       "      <td>50</td>\n",
       "      <td>5</td>\n",
       "    </tr>\n",
       "    <tr>\n",
       "      <th>1</th>\n",
       "      <td>Jack Stewart</td>\n",
       "      <td>53</td>\n",
       "      <td>8</td>\n",
       "    </tr>\n",
       "    <tr>\n",
       "      <th>2</th>\n",
       "      <td>Richard Lauder</td>\n",
       "      <td>35</td>\n",
       "      <td>3</td>\n",
       "    </tr>\n",
       "    <tr>\n",
       "      <th>3</th>\n",
       "      <td>Sara Johnson</td>\n",
       "      <td>43</td>\n",
       "      <td>10</td>\n",
       "    </tr>\n",
       "  </tbody>\n",
       "</table>\n",
       "</div>"
      ],
      "text/plain": [
       "             Name Age Work Experience(Yrs)\n",
       "0       Amy White  50                    5\n",
       "1    Jack Stewart  53                    8\n",
       "2  Richard Lauder  35                    3\n",
       "3    Sara Johnson  43                   10"
      ]
     },
     "execution_count": 23,
     "metadata": {},
     "output_type": "execute_result"
    }
   ],
   "source": [
    "df"
   ]
  },
  {
   "cell_type": "code",
   "execution_count": 24,
   "id": "ed9aebac",
   "metadata": {},
   "outputs": [
    {
     "name": "stdout",
     "output_type": "stream",
     "text": [
      "             Name Age Work Experience(Yrs)\n",
      "0       Amy White  50                    5\n",
      "1    Jack Stewart  53                    8\n",
      "2  Richard Lauder  35                    3\n",
      "3    Sara Johnson  43                   10\n"
     ]
    }
   ],
   "source": [
    "print(df)"
   ]
  },
  {
   "cell_type": "code",
   "execution_count": 25,
   "id": "05e35e41",
   "metadata": {},
   "outputs": [],
   "source": [
    "names = pd.Series(['Amy White', 'Jack Stewart', 'Richard Lauderdale', 'Sara Johnson'])\n",
    "age = pd.Series([50, 53, 35, 43])\n",
    "working_experience_yrs = pd.Series([5, 8, 3, 10])\n",
    "data = {\n",
    "    'Name': names,\n",
    "    'Age': age,\n",
    "    'Work Experience(Yrs.)': working_experience_yrs}\n",
    "    "
   ]
  },
  {
   "cell_type": "code",
   "execution_count": 26,
   "id": "a9a01d5d",
   "metadata": {},
   "outputs": [
    {
     "name": "stdout",
     "output_type": "stream",
     "text": [
      "                 Name  Age  Work Experience(Yrs.)\n",
      "0           Amy White   50                      5\n",
      "1        Jack Stewart   53                      8\n",
      "2  Richard Lauderdale   35                      3\n",
      "3        Sara Johnson   43                     10\n"
     ]
    }
   ],
   "source": [
    "df = pd.DataFrame(data)\n",
    "print(df)"
   ]
  },
  {
   "cell_type": "code",
   "execution_count": 27,
   "id": "5bafa97d",
   "metadata": {},
   "outputs": [
    {
     "ename": "SyntaxError",
     "evalue": "expected ':' (3824403843.py, line 9)",
     "output_type": "error",
     "traceback": [
      "\u001b[1;36m  Cell \u001b[1;32mIn[27], line 9\u001b[1;36m\u001b[0m\n\u001b[1;33m    else if x<0:\u001b[0m\n\u001b[1;37m         ^\u001b[0m\n\u001b[1;31mSyntaxError\u001b[0m\u001b[1;31m:\u001b[0m expected ':'\n"
     ]
    }
   ],
   "source": [
    "x = 200\n",
    "\n",
    "if x > 200: \n",
    "    print (\"Big\")\n",
    "elif x > 100 and x <= 200:\n",
    "    print (\"Average\")\n",
    "elif x >=0 and x <=100:\n",
    "    print (\"Small\")\n",
    "else if x<0:\n",
    "    print (\"Negative\")"
   ]
  },
  {
   "cell_type": "code",
   "execution_count": null,
   "id": "e76d07cb",
   "metadata": {},
   "outputs": [],
   "source": [
    "x = 200\n",
    "\n",
    "if x > 200:\n",
    "    print(\"Big\")\n",
    "elif 100 < x <= 200:\n",
    "    print(\"Average\")\n",
    "elif 0 <= x <= 100:\n",
    "    print(\"Small\")\n",
    "elif x < 0:\n",
    "    print(\"Negative\")"
   ]
  },
  {
   "cell_type": "code",
   "execution_count": null,
   "id": "d5965b21",
   "metadata": {},
   "outputs": [],
   "source": [
    "df_concatenated.columns.values\n",
    "column_names = ['Reason for Absence', 'Date', 'Transportation Expense',\n",
    "       'Distance to Work', 'Daily Work Load Average', 'Body Mass Index',\n",
    "       'Education', 'Children', 'Pets', 27,\n",
    "       28, 29, 30, 31, 32, 33, 34, 36, 37, 38, 39, 40, 41, 43, 46, 47, 48,\n",
    "       49, 50, 58, 'Absenteeism Time in Hours']\n",
    "df_concatenated = df_concatenated[column_names]\n",
    "df_concatenated"
   ]
  },
  {
   "cell_type": "code",
   "execution_count": null,
   "id": "722fde2a",
   "metadata": {},
   "outputs": [],
   "source": []
  }
 ],
 "metadata": {
  "kernelspec": {
   "display_name": "Python 3 (ipykernel)",
   "language": "python",
   "name": "python3"
  },
  "language_info": {
   "codemirror_mode": {
    "name": "ipython",
    "version": 3
   },
   "file_extension": ".py",
   "mimetype": "text/x-python",
   "name": "python",
   "nbconvert_exporter": "python",
   "pygments_lexer": "ipython3",
   "version": "3.11.5"
  }
 },
 "nbformat": 4,
 "nbformat_minor": 5
}
